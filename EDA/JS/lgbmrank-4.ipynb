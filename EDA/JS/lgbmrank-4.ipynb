{
 "cells": [
  {
   "cell_type": "code",
   "execution_count": 1,
   "id": "2d2ea04f",
   "metadata": {},
   "outputs": [
    {
     "name": "stderr",
     "output_type": "stream",
     "text": [
      "../../src/dataload.py:29: FutureWarning: The default dtype for empty Series will be 'object' instead of 'float64' in a future version. Specify a dtype explicitly to silence this warning.\n",
      "  def day_feature(df_train:pd.DataFrame())->pd.Series():\n"
     ]
    }
   ],
   "source": [
    "import sys\n",
    "sys.path.append(\"../../src\")\n",
    "\n",
    "import numpy as np\n",
    "import pandas as pd\n",
    "\n",
    "import lightgbm\n",
    "\n",
    "from utils import ndcg_calculator\n",
    "from LGBM_Rank import LGBMRank\n",
    "from dataload import dataload, day_week_feature_engineering, train_label_split, feature_dataload\n",
    "from feature_engineering import *\n",
    "from candidate import *\n",
    "from tqdm import tqdm"
   ]
  },
  {
   "cell_type": "markdown",
   "id": "2836791b",
   "metadata": {},
   "source": [
    "# dataload\n",
    "- 편의상 df_train_week 변수 통일하여 사용함"
   ]
  },
  {
   "cell_type": "code",
   "execution_count": 2,
   "id": "9350fa85",
   "metadata": {},
   "outputs": [],
   "source": [
    "path='../../data/'\n",
    "\n",
    "test_answer_week, test_answer_month, \\\n",
    "df_train_week, df_train_month, \\\n",
    "sample_sumbission_week, sample_sumbission_month = dataload(path)"
   ]
  },
  {
   "cell_type": "code",
   "execution_count": 3,
   "id": "169ea76a",
   "metadata": {},
   "outputs": [],
   "source": [
    "# # 전체 데이터 이용시\n",
    "df_history = pd.read_csv(path+'history_data.csv')\n",
    "\n",
    "# ## 날짜 전처리\n",
    "df_history = df_history.assign(log_dt = pd.to_datetime(df_history.log_time//100, format=\"%Y%m%d%H%M\"))\n",
    "df_history = df_history.assign(log_date = df_history.log_dt.dt.floor(\"D\"))\n",
    "df_history = df_history.drop(\"log_time\", axis=1)\n",
    "\n",
    "df_train_week = df_history.copy()\n",
    "\n",
    "# # month 이용\n",
    "# # df_train_week = df_train_month.copy()"
   ]
  },
  {
   "cell_type": "markdown",
   "id": "ebada74b",
   "metadata": {},
   "source": [
    "# feature dataload"
   ]
  },
  {
   "cell_type": "code",
   "execution_count": 4,
   "id": "c7b46f9d",
   "metadata": {},
   "outputs": [
    {
     "name": "stderr",
     "output_type": "stream",
     "text": [
      "../../src/dataload.py:89: DtypeWarning: Columns (15) have mixed types. Specify dtype option on import or set low_memory=False.\n",
      "  meta_df = pd.read_csv(path + \"meta_data.csv\")\n"
     ]
    }
   ],
   "source": [
    "# data load\n",
    "watch_df, buy_df, search_df, meta_df, profile_df = feature_dataload(path)"
   ]
  },
  {
   "cell_type": "code",
   "execution_count": 5,
   "id": "fcca8c6e",
   "metadata": {},
   "outputs": [],
   "source": [
    "# feature engineering\n",
    "# df_train_week = history_feature_engineering(df_train_week)\n",
    "\n",
    "# short_con_freq_feature = df_train_week[[\"album_id\",\"short_trailer\",\"continuous_play\",\"album_viewcount_freq\"]]\n",
    "\n",
    "watch_df_feature = watch_feature_engineering(watch_df)\n",
    "watch_df_feature = watch_df_feature.drop_duplicates(subset=[\"profile_id\",\"album_id\"])\n",
    "\n",
    "paid_df_feature = paid_feature_engineering(df_train_week, buy_df)\n",
    "\n",
    "searched_df_feature = searched_feature_engineering(df_train_week, search_df)\n",
    "\n",
    "meta_df_feature = meta_feature_engineering(meta_df)\n",
    "\n",
    "profile_df_feature = profile_feature_engineering(profile_df)\n",
    "profile_df_feature = profile_df_feature[[\"profile_id\",\"sex\",\"age\",\"age_bin\"]]"
   ]
  },
  {
   "cell_type": "markdown",
   "id": "75b245fb",
   "metadata": {},
   "source": [
    "# day_week feature engineering\n",
    "- to split label, train data"
   ]
  },
  {
   "cell_type": "code",
   "execution_count": 6,
   "id": "ef41abdb",
   "metadata": {},
   "outputs": [
    {
     "name": "stdout",
     "output_type": "stream",
     "text": [
      "log date min: 2022-03-01 00:00:00 log date max: 2022-04-30 00:00:00\n",
      "min day: 0 max day: 60\n",
      "min week: 0 max week: 8\n"
     ]
    }
   ],
   "source": [
    "df_train_week = day_week_feature_engineering(df_train_week)"
   ]
  },
  {
   "cell_type": "markdown",
   "id": "869bf3f8",
   "metadata": {},
   "source": [
    "# label & train split"
   ]
  },
  {
   "cell_type": "code",
   "execution_count": 7,
   "id": "71ef7f79",
   "metadata": {},
   "outputs": [
    {
     "name": "stdout",
     "output_type": "stream",
     "text": [
      "split last week: 8\n"
     ]
    }
   ],
   "source": [
    "# Label, train data split\n",
    "df_train, label_df = train_label_split(df_train_week, cv_date=0)"
   ]
  },
  {
   "cell_type": "code",
   "execution_count": 8,
   "id": "48b73614",
   "metadata": {},
   "outputs": [],
   "source": [
    "n = 25"
   ]
  },
  {
   "cell_type": "code",
   "execution_count": 9,
   "id": "b151ac37",
   "metadata": {
    "scrolled": true
   },
   "outputs": [
    {
     "data": {
      "text/plain": [
       "(1005651, 1005651)"
      ]
     },
     "execution_count": 9,
     "metadata": {},
     "output_type": "execute_result"
    }
   ],
   "source": [
    "len(df_train), len(df_train_week)"
   ]
  },
  {
   "cell_type": "markdown",
   "id": "1e8fe2e9",
   "metadata": {},
   "source": [
    "# prerpocess"
   ]
  },
  {
   "cell_type": "code",
   "execution_count": 10,
   "id": "45611304",
   "metadata": {},
   "outputs": [],
   "source": [
    "# 총 3개 파일 사용\n",
    "\n",
    "# log dt 기준 duplicates\n",
    "df_train_week = df_train.drop_duplicates(subset=[\"profile_id\",\"album_id\",\"log_dt\"])\n",
    "# ss_id 기준 duplicates\n",
    "personal_train = df_train.drop_duplicates(subset=['profile_id','album_id','ss_id'])\n",
    "# album_id, profile_id 기준으로 duplicates\n",
    "df_train = df_train.drop_duplicates(subset=['profile_id','album_id'])\n",
    "\n",
    "# 전체 유저 한정\n",
    "customers = df_train.profile_id.unique()\n",
    "# 라벨 한정\n",
    "# customers = label_df.profile_id.unique()"
   ]
  },
  {
   "cell_type": "markdown",
   "id": "0c6b093a",
   "metadata": {},
   "source": [
    "# fav_cast feature"
   ]
  },
  {
   "cell_type": "code",
   "execution_count": 11,
   "id": "8af4f4c3",
   "metadata": {},
   "outputs": [],
   "source": [
    "favorite_cast_feature = fav_cast(df_train, meta_df_feature)"
   ]
  },
  {
   "cell_type": "markdown",
   "id": "d6175274",
   "metadata": {},
   "source": [
    "# fav_keyword_feature"
   ]
  },
  {
   "cell_type": "code",
   "execution_count": 12,
   "id": "00f0c943",
   "metadata": {},
   "outputs": [],
   "source": [
    "meta_plus_df = pd.read_csv(path+\"meta_data_plus.csv\")\n",
    "fav_keyword_feature = fav_keyword(df_train, meta_plus_df)"
   ]
  },
  {
   "cell_type": "markdown",
   "id": "e089d8f7",
   "metadata": {},
   "source": [
    "# user keyword feature"
   ]
  },
  {
   "cell_type": "code",
   "execution_count": 13,
   "id": "7eba0961",
   "metadata": {},
   "outputs": [],
   "source": [
    "interest_keyword_feature = interest_keyword_cd(df_train, profile_df)"
   ]
  },
  {
   "cell_type": "markdown",
   "id": "b4b3d670",
   "metadata": {},
   "source": [
    "# day week features"
   ]
  },
  {
   "cell_type": "code",
   "execution_count": 14,
   "id": "7bea3d92",
   "metadata": {},
   "outputs": [
    {
     "name": "stderr",
     "output_type": "stream",
     "text": [
      "../../src/feature_engineering.py:173: SettingWithCopyWarning: \n",
      "A value is trying to be set on a copy of a slice from a DataFrame.\n",
      "Try using .loc[row_indexer,col_indexer] = value instead\n",
      "\n",
      "See the caveats in the documentation: https://pandas.pydata.org/pandas-docs/stable/user_guide/indexing.html#returning-a-view-versus-a-copy\n",
      "  hour_feature[\"hour\"] = hour_feature[\"log_dt\"].apply(lambda x: x.hour)\n"
     ]
    }
   ],
   "source": [
    "interaction_day_week_first = day_week_feature(df_train_week)\n",
    "hour_feature = hour_feature(df_train_week)"
   ]
  },
  {
   "cell_type": "markdown",
   "id": "0cd7721e",
   "metadata": {},
   "source": [
    "# paid_count_feature"
   ]
  },
  {
   "cell_type": "code",
   "execution_count": 15,
   "id": "92a23dfa",
   "metadata": {},
   "outputs": [],
   "source": [
    "paid_count_feature = paid_count_feature(df_train_week)"
   ]
  },
  {
   "cell_type": "markdown",
   "id": "c418ca3a",
   "metadata": {},
   "source": [
    "# candidate generation"
   ]
  },
  {
   "cell_type": "markdown",
   "id": "4093fc75",
   "metadata": {},
   "source": [
    "# MP"
   ]
  },
  {
   "cell_type": "code",
   "execution_count": 16,
   "id": "17ae8fb7",
   "metadata": {},
   "outputs": [],
   "source": [
    "MP_cand, MP_feature = most_popular(df_train)"
   ]
  },
  {
   "cell_type": "markdown",
   "id": "4b8c818f",
   "metadata": {},
   "source": [
    "# general MP\n",
    "- 마지막 1주, 2주의 MP를 각 유저마다 넣는다."
   ]
  },
  {
   "cell_type": "code",
   "execution_count": 17,
   "id": "d08b5a49",
   "metadata": {},
   "outputs": [
    {
     "name": "stdout",
     "output_type": "stream",
     "text": [
      "CPU times: user 33.5 ms, sys: 6.03 ms, total: 39.5 ms\n",
      "Wall time: 38.5 ms\n"
     ]
    }
   ],
   "source": [
    "%%time\n",
    "general_MP_cand, general_MP_feature = general_most_popular(df_train)"
   ]
  },
  {
   "cell_type": "markdown",
   "id": "ed0dbe09",
   "metadata": {},
   "source": [
    "# personal_MP"
   ]
  },
  {
   "cell_type": "code",
   "execution_count": 18,
   "id": "e05e7118",
   "metadata": {
    "scrolled": true
   },
   "outputs": [
    {
     "name": "stderr",
     "output_type": "stream",
     "text": [
      "100%|█████████████████████████████████████| 8311/8311 [00:07<00:00, 1149.12it/s]\n"
     ]
    },
    {
     "name": "stdout",
     "output_type": "stream",
     "text": [
      "CPU times: user 7.47 s, sys: 125 ms, total: 7.59 s\n",
      "Wall time: 7.58 s\n"
     ]
    }
   ],
   "source": [
    "%%time\n",
    "personal_MP_candidate, personal_MP_feature = personal_most_popular(personal_train, N=50)"
   ]
  },
  {
   "cell_type": "markdown",
   "id": "db72069f",
   "metadata": {},
   "source": [
    "# MP_user_genre"
   ]
  },
  {
   "cell_type": "code",
   "execution_count": 19,
   "id": "fc8110b7",
   "metadata": {},
   "outputs": [],
   "source": [
    "# 이전에는 meta 중복 때문에 장르 count가 잘못 뻥튀기 되어서 잘못 MP가 매겨짐\n",
    "# feature merge 시 genre_mid 와 profile_id 기준으로 해야함\n",
    "genre_candidate, user_genre_feature = user_genre_most_popular(personal_train, meta_df)"
   ]
  },
  {
   "cell_type": "markdown",
   "id": "d31cb6b6",
   "metadata": {},
   "source": [
    "# ALS MF candidate"
   ]
  },
  {
   "cell_type": "code",
   "execution_count": 20,
   "id": "59cfc4f0",
   "metadata": {},
   "outputs": [
    {
     "data": {
      "application/vnd.jupyter.widget-view+json": {
       "model_id": "19ba0b38d0fe47329b5ea99122858b51",
       "version_major": 2,
       "version_minor": 0
      },
      "text/plain": [
       "  0%|          | 0/3 [00:00<?, ?it/s]"
      ]
     },
     "metadata": {},
     "output_type": "display_data"
    },
    {
     "name": "stdout",
     "output_type": "stream",
     "text": [
      "item vector shape: (20695, 200) user vector shape (8311, 200)\n",
      "CPU times: user 14 s, sys: 5.42 s, total: 19.4 s\n",
      "Wall time: 14.6 s\n"
     ]
    }
   ],
   "source": [
    "%%time\n",
    "from ALS_MF import MF\n",
    "model = MF(df_train_week, clf={'factors': 200, 'regularization': 0.005, 'iterations': 3, 'n': 100})\n",
    "\n",
    "user_factors_feature = pd.read_parquet(path+\"profile_factor_als.parquet\")\n",
    "item_factors_feature = pd.read_parquet(path+\"album_factor_als.parquet\")\n",
    "\n",
    "als_candidate, _, _, als_model = model.mf_train()"
   ]
  },
  {
   "cell_type": "markdown",
   "id": "a5b43fe5",
   "metadata": {},
   "source": [
    "# apriori candidaate"
   ]
  },
  {
   "cell_type": "code",
   "execution_count": 21,
   "id": "493e4a65",
   "metadata": {},
   "outputs": [],
   "source": [
    "# %%time\n",
    "# from apriori import apriori_train, apriori_candidate\n",
    "# rules_confidence_item_week = apriori_train(df_train, 0.1, 0.8)\n",
    "# apriori_candidate, apriori_feature = apriori_candidate(df_train_week, rules_confidence_item_week)"
   ]
  },
  {
   "cell_type": "markdown",
   "id": "890a257c",
   "metadata": {},
   "source": [
    "# NCF candidate"
   ]
  },
  {
   "cell_type": "code",
   "execution_count": 22,
   "id": "11789aa4",
   "metadata": {},
   "outputs": [],
   "source": [
    "ncf_candidate_df = pd.read_csv(path + \"2_neg100_submission.csv\")"
   ]
  },
  {
   "cell_type": "code",
   "execution_count": 23,
   "id": "e13d750e",
   "metadata": {},
   "outputs": [],
   "source": [
    "import ast\n",
    "\n",
    "ncf_candidate_list = []\n",
    "for idx, row in ncf_candidate_df.iterrows():\n",
    "    ncf_df = pd.DataFrame()\n",
    "    ncf_df[\"album_id\"] = ast.literal_eval(row.predicted_list)\n",
    "    ncf_df[\"profile_id\"] = row.profile_id\n",
    "    ncf_candidate_list.append(ncf_df)\n",
    "ncf_candidate = pd.concat(ncf_candidate_list)\n",
    "ncf_candidate = ncf_candidate[ncf_candidate[\"profile_id\"].isin(set(df_train.profile_id))]\n",
    "\n",
    "# 아웃라이어 삭제\n",
    "album_max_dict = df_train.groupby(\"profile_id\")[\"album_id\"].max().to_dict()\n",
    "\n",
    "last_train_df_list = []\n",
    "for user_id in ncf_candidate.profile_id.unique():\n",
    "    last_train_df_list.append(ncf_candidate[(ncf_candidate[\"profile_id\"]==user_id)&(ncf_candidate[\"album_id\"]<=album_max_dict[user_id])])\n",
    "ncf_candidate = pd.concat(last_train_df_list)"
   ]
  },
  {
   "cell_type": "markdown",
   "id": "2ac2393b",
   "metadata": {},
   "source": [
    "# azps_candidate"
   ]
  },
  {
   "cell_type": "code",
   "execution_count": 24,
   "id": "90a4d9d8",
   "metadata": {},
   "outputs": [],
   "source": [
    "azps_candidate_df = pd.read_csv(path+\"azps_submit.csv\")"
   ]
  },
  {
   "cell_type": "code",
   "execution_count": 25,
   "id": "6379d068",
   "metadata": {},
   "outputs": [],
   "source": [
    "import ast\n",
    "\n",
    "azps_candidate_list = []\n",
    "for idx, row in azps_candidate_df.iterrows():\n",
    "    azps_df = pd.DataFrame()\n",
    "    azps_df[\"album_id\"] = ast.literal_eval(row.predicted_list)\n",
    "    azps_df[\"profile_id\"] = row.profile_id\n",
    "    azps_candidate_list.append(azps_df)\n",
    "azps_candidate = pd.concat(azps_candidate_list)\n",
    "azps_candidate = azps_candidate[azps_candidate[\"profile_id\"].isin(set(df_train.profile_id))]"
   ]
  },
  {
   "cell_type": "markdown",
   "id": "64d30f3f",
   "metadata": {},
   "source": [
    "# series candidate"
   ]
  },
  {
   "cell_type": "code",
   "execution_count": 26,
   "id": "0f6e3acc",
   "metadata": {},
   "outputs": [
    {
     "name": "stdout",
     "output_type": "stream",
     "text": [
      "Train shape: (148165, 13)\n"
     ]
    },
    {
     "name": "stderr",
     "output_type": "stream",
     "text": [
      "1783it [00:04, 416.09it/s]\n",
      "100%|██████████████████████████████████████| 8311/8311 [00:09<00:00, 881.40it/s]\n"
     ]
    },
    {
     "name": "stdout",
     "output_type": "stream",
     "text": [
      "7075\n"
     ]
    }
   ],
   "source": [
    "series_candidate = series_candidate(df_train_week, threshold=30)"
   ]
  },
  {
   "cell_type": "markdown",
   "id": "1ecc284c",
   "metadata": {},
   "source": [
    "# age candidate"
   ]
  },
  {
   "cell_type": "code",
   "execution_count": 27,
   "id": "fc678386",
   "metadata": {
    "scrolled": true
   },
   "outputs": [],
   "source": [
    "# age_MP_candidate = age_MP(df_train_week, profile_df_feature)"
   ]
  },
  {
   "cell_type": "markdown",
   "id": "99a76203",
   "metadata": {},
   "source": [
    "# candidate merge"
   ]
  },
  {
   "cell_type": "code",
   "execution_count": 28,
   "id": "8db68f87",
   "metadata": {},
   "outputs": [
    {
     "data": {
      "text/plain": [
       "(22.528763250883394, 100.0)"
      ]
     },
     "execution_count": 28,
     "metadata": {},
     "output_type": "execute_result"
    }
   ],
   "source": [
    "# 평균 candidate 수\n",
    "MP_cand.groupby(\"profile_id\").count().mean()[0],\\\n",
    "personal_MP_candidate.groupby(\"profile_id\").count().mean()[0],\\\n",
    "genre_candidate.groupby(\"profile_id\").count().mean()[0],\\\n",
    "als_candidate.groupby(\"profile_id\").count().mean()[0],\\\n",
    "# ncf_candidate.groupby(\"profile_id\").count().mean()[0],\\\n",
    "series_candidate.groupby(\"profile_id\").count().mean()[0],\\\n",
    "azps_candidate.groupby(\"profile_id\").count().mean()[0]"
   ]
  },
  {
   "cell_type": "code",
   "execution_count": 29,
   "id": "fc94154c",
   "metadata": {},
   "outputs": [
    {
     "name": "stdout",
     "output_type": "stream",
     "text": [
      "cand 데이터 수: 1829641\n",
      "cand nunique:  17982\n"
     ]
    }
   ],
   "source": [
    "candidate_0 = MP_cand\n",
    "candidate_1 = general_MP_cand[['profile_id','album_id']]\n",
    "candidate_2 = personal_MP_candidate[['profile_id','album_id']]\n",
    "candidate_3 = genre_candidate[['profile_id','album_id']]\n",
    "candidate_4 = als_candidate.copy()\n",
    "# candidate_5 = apriori_candidate.copy()\n",
    "# candidate_6 = ncf_candidate.copy()\n",
    "candidate_7 = series_candidate[[\"profile_id\",\"album_id\"]]\n",
    "candidate_8 = azps_candidate.copy()\n",
    "\n",
    "candidate = [candidate_0, candidate_1,candidate_2,candidate_3,candidate_4,candidate_7, candidate_8]\n",
    "\n",
    "cand = pd.concat(candidate)\n",
    "cand.drop_duplicates(subset=['profile_id','album_id'],inplace=True)\n",
    "\n",
    "print('cand 데이터 수:',len(cand))\n",
    "print('cand nunique: ', cand.album_id.nunique())"
   ]
  },
  {
   "cell_type": "markdown",
   "id": "49208a80",
   "metadata": {},
   "source": [
    "# features merge"
   ]
  },
  {
   "cell_type": "code",
   "execution_count": 30,
   "id": "dc16cbd2",
   "metadata": {},
   "outputs": [],
   "source": [
    "candidate = pd.merge(cand, MP_feature, how='left', on='album_id')\n",
    "# general counts feature merge\n",
    "candidate = pd.merge(candidate, general_MP_feature, how='left', on='album_id')\n",
    "# personal_count feature merge\n",
    "candidate = pd.merge(candidate, personal_MP_feature, how='left', on=['profile_id','album_id'])\n",
    "candidate[\"personal_counts\"] = candidate[\"personal_counts\"].fillna(1)\n",
    "# meta feature\n",
    "candidate = pd.merge(candidate, meta_df_feature, how=\"left\",on=\"album_id\")\n",
    "# genre feature merge(genre_cnt, user_genre_total_cnt, user_genre_total_percent)\n",
    "candidate = pd.merge(candidate, user_genre_feature, how='left', on=['profile_id','genre_mid'])\n",
    "# apriori feature merge\n",
    "# candidate = pd.merge(candidate, apriori_feature, how=\"left\", on=[\"profile_id\",\"album_id\"])"
   ]
  },
  {
   "cell_type": "code",
   "execution_count": 31,
   "id": "093290a1",
   "metadata": {},
   "outputs": [
    {
     "name": "stdout",
     "output_type": "stream",
     "text": [
      "cand 피처 수: 1829641\n"
     ]
    }
   ],
   "source": [
    "print('cand 피처 수:',len(candidate))"
   ]
  },
  {
   "cell_type": "code",
   "execution_count": 32,
   "id": "75314588",
   "metadata": {},
   "outputs": [],
   "source": [
    "# meta feature merge\n",
    "\n",
    "'''\n",
    "아직 사용 안하고 있음\n",
    "# profile feature add\n",
    "candidate_add_features = pd.merge(candidate,profile_df, how='left', on='profile_id')\n",
    "# meta feature add\n",
    "candidate_add_features = pd.merge(candidate_add_features, meta_df.drop_duplicates('album_id'), how='left', on='album_id')\n",
    "\n",
    "# catetegory feature label encoding\n",
    "\n",
    "columns = ['sex','pr_interest_keyword_cd_1','pr_interest_keyword_cd_2','pr_interest_keyword_cd_3','ch_interest_keyword_cd_1','ch_interest_keyword_cd_2','ch_interest_keyword_cd_3',\\\n",
    "'genre_mid','cast_1','cast_2','cast_3']\n",
    "from sklearn.preprocessing import LabelEncoder\n",
    "for col in columns:\n",
    "    LE = LabelEncoder()\n",
    "    candidate_add_features[col] = LE.fit_transform(candidate_add_features[col])\n",
    "\n",
    "# drop columns\n",
    "\n",
    "candidate_add_features = candidate_add_features.drop(columns=['personal_counts','pr_interest_keyword_cd_1',\\\n",
    "                                                              'pr_interest_keyword_cd_2','pr_interest_keyword_cd_3'\\\n",
    "                                                              ,'ch_interest_keyword_cd_1','ch_interest_keyword_cd_2'\\\n",
    "                                                              ,'ch_interest_keyword_cd_3',\\\n",
    "                                                                'genre_mid','cast_1','cast_2','cast_3'])\n",
    "                                                                \n",
    "'''\n",
    "candidate_add_features = candidate.copy()\n",
    "\n",
    "# als vector merge\n",
    "candidate_add_features = pd.merge(candidate_add_features, item_factors_feature, how=\"left\", on=\"album_id\")\n",
    "candidate_add_features = pd.merge(candidate_add_features, user_factors_feature, how=\"left\", on=\"profile_id\")\n",
    "\n",
    "# interaction day, week merge\n",
    "candidate_add_features = pd.merge(candidate_add_features, interaction_day_week_first, how=\"left\",on=[\"profile_id\",\"album_id\"])"
   ]
  },
  {
   "cell_type": "code",
   "execution_count": 33,
   "id": "1fa07a59",
   "metadata": {
    "scrolled": true
   },
   "outputs": [],
   "source": [
    "watch_df_feature = watch_df_feature[[\"album_id\",\"continuous_play\",\"total_time\"]].drop_duplicates(subset=\"album_id\")\n",
    "candidate_add_features = pd.merge(candidate_add_features, watch_df_feature, how=\"left\",on=\"album_id\")\n",
    "candidate_add_features = pd.merge(candidate_add_features, profile_df_feature, how=\"left\",on=\"profile_id\")\n",
    "# candidate_add_features = pd.merge(candidate_add_features, searched_df_feature,how=\"left\",on=[\"profile_id\",\"album_id\"])\n",
    "# candidate_add_features = pd.merge(candidate_add_features, paid_df_feature,how=\"left\",on=[\"album_id\",\"profile_id\"])\n",
    "# candidate_add_features[\"paid_label\"] = candidate_add_features[\"paid_label\"].fillna(0)\n",
    "\n",
    "candidate_add_features = pd.merge(candidate_add_features, favorite_cast_feature, how=\"left\",on=\"profile_id\")\n",
    "candidate_add_features = pd.merge(candidate_add_features, fav_keyword_feature, how=\"left\",on=\"profile_id\")\n",
    "# candidate_add_features = pd.merge(candidate_add_features, paid_count_feature, how=\"left\",on=\"profile_id\")\n",
    "# 타입오류 픽처 제거\n",
    "# candidate_add_features = candidate_add_features.drop(columns=[\"onair_date\",\"title\", \"genre_small\", \"cast_1\", \"cast_2\", \"cast_3\", \"cast_4\", \"cast_5\", \"cast_6\", \"cast_7\"])\n",
    "# interest feature \n",
    "# candidate_add_features = pd.merge(candidate_add_features, interest_keyword_feature, how=\"left\", on=\"profile_id\")\n",
    "candidate_add_features[\"country\"] = candidate_add_features[\"country\"].fillna(\"etc\")"
   ]
  },
  {
   "cell_type": "code",
   "execution_count": 34,
   "id": "c7ccb88b",
   "metadata": {
    "scrolled": true
   },
   "outputs": [
    {
     "data": {
      "text/plain": [
       "1829641"
      ]
     },
     "execution_count": 34,
     "metadata": {},
     "output_type": "execute_result"
    }
   ],
   "source": [
    "len(candidate_add_features)"
   ]
  },
  {
   "cell_type": "code",
   "execution_count": 35,
   "id": "89b4b6bf",
   "metadata": {},
   "outputs": [],
   "source": [
    "# pd.set_option('display.max_columns', 500)\n",
    "# candidate_add_features"
   ]
  },
  {
   "cell_type": "code",
   "execution_count": 36,
   "id": "60adfe67",
   "metadata": {},
   "outputs": [],
   "source": [
    "# 라벨 부여\n",
    "def label_create(candidate_add_features_df, label_df):\n",
    "    train_df = pd.merge(candidate_add_features_df, label_df, how='left', on=['profile_id','album_id'])\n",
    "    train_df['rating'] = train_df['rating'].fillna(0)\n",
    "    return train_df\n",
    "\n",
    "# 비복원 추출 defalut\n",
    "# train_df = train_df.sample(frac=1, random_state=42).reset_index(drop=True)\n",
    "\n",
    "train_df = label_create(candidate_add_features, label_df)"
   ]
  },
  {
   "cell_type": "code",
   "execution_count": 37,
   "id": "781a368c",
   "metadata": {},
   "outputs": [
    {
     "data": {
      "text/plain": [
       "0.0    1802794\n",
       "1.0      26847\n",
       "Name: rating, dtype: int64"
      ]
     },
     "execution_count": 37,
     "metadata": {},
     "output_type": "execute_result"
    }
   ],
   "source": [
    "train_df[\"rating\"].value_counts()"
   ]
  },
  {
   "cell_type": "markdown",
   "id": "a5a24f78",
   "metadata": {},
   "source": [
    "# model"
   ]
  },
  {
   "cell_type": "code",
   "execution_count": 38,
   "id": "65bb9a7b",
   "metadata": {},
   "outputs": [],
   "source": [
    "model_params={\"num_leaves\":150 ,\"learning_rate\":0.005,'n_estimators':35}"
   ]
  },
  {
   "cell_type": "code",
   "execution_count": 39,
   "id": "cb3e2946",
   "metadata": {
    "scrolled": true
   },
   "outputs": [],
   "source": [
    "def lgbmrank_create(train_df):\n",
    "    lgbmrank = LGBMRank(train_df, mode='week', model_params=model_params)\n",
    "    X_train, sample_submission = lgbmrank.valid_evaluation()\n",
    "    return X_train, sample_submission"
   ]
  },
  {
   "cell_type": "code",
   "execution_count": 40,
   "id": "7a4c25b0",
   "metadata": {
    "scrolled": true
   },
   "outputs": [
    {
     "name": "stdout",
     "output_type": "stream",
     "text": [
      "                     feature_importances\n",
      "total_counts                  246.024718\n",
      "general_counts_ver1          1541.864691\n",
      "general_counts_ver2          2099.095007\n",
      "personal_counts            236857.377256\n",
      "genre_large                     0.000000\n",
      "...                                  ...\n",
      "age_bin                         0.000000\n",
      "favorite_cast                 101.683001\n",
      "cast_count                    367.715999\n",
      "representable_key             438.132492\n",
      "represent_key_count           856.522599\n",
      "\n",
      "[423 rows x 1 columns]\n",
      "week performance\n",
      "lgbm ndcg: 0.26187423069727567\n"
     ]
    }
   ],
   "source": [
    "X_train, sample_submission = lgbmrank_create(train_df)"
   ]
  },
  {
   "cell_type": "code",
   "execution_count": 124,
   "id": "8e54ea19",
   "metadata": {},
   "outputs": [
    {
     "data": {
      "text/plain": [
       "'\\nX_train.pred.value_counts()\\n\\nn_estimators: 5 -> 300\\nn_estimators: 10 -> 900\\nn_estimators: 15 -> 2500\\nn_estimators: 20 -> 4118\\nn_estimators: 25 -> 6532\\nn_estimators: 30 -> 9267\\nn_estimators: 35 -> 10601\\nn_estimators: 40 -> 11415\\nn_estimators: 45 -> 12930\\nn_estimators: 50 -> 13774\\nn_estimators: 55 -> 14446\\n'"
      ]
     },
     "execution_count": 124,
     "metadata": {},
     "output_type": "execute_result"
    }
   ],
   "source": [
    "'''\n",
    "X_train.pred.value_counts()\n",
    "\n",
    "n_estimators: 5 -> 300\n",
    "n_estimators: 10 -> 900\n",
    "n_estimators: 15 -> 2500\n",
    "n_estimators: 20 -> 4118\n",
    "n_estimators: 25 -> 6532\n",
    "n_estimators: 30 -> 9267\n",
    "n_estimators: 35 -> 10601\n",
    "n_estimators: 40 -> 11415\n",
    "n_estimators: 45 -> 12930\n",
    "n_estimators: 50 -> 13774\n",
    "n_estimators: 55 -> 14446\n",
    "'''"
   ]
  },
  {
   "cell_type": "code",
   "execution_count": 125,
   "id": "9023bd8d",
   "metadata": {},
   "outputs": [
    {
     "data": {
      "text/plain": [
       "0.0    885769\n",
       "1.0     44229\n",
       "Name: rating, dtype: int64"
      ]
     },
     "execution_count": 125,
     "metadata": {},
     "output_type": "execute_result"
    }
   ],
   "source": [
    "label_users = label_df.profile_id.unique()\n",
    "label_train_df = train_df[train_df[\"profile_id\"].isin(label_users)]\n",
    "\n",
    "label_train_df[\"rating\"].value_counts()"
   ]
  },
  {
   "cell_type": "markdown",
   "id": "6e5b34eb",
   "metadata": {},
   "source": [
    "# 모델 label 유저만 학습"
   ]
  },
  {
   "cell_type": "code",
   "execution_count": 126,
   "id": "f908a21f",
   "metadata": {
    "scrolled": true
   },
   "outputs": [],
   "source": [
    "lgbmrank = LGBMRank(label_train_df, mode='week', model_params=model_params)\n",
    "model, feature_importances_df = lgbmrank.train()"
   ]
  },
  {
   "cell_type": "code",
   "execution_count": 127,
   "id": "fe2557f4",
   "metadata": {},
   "outputs": [],
   "source": [
    "user_idx = train_df.profile_id\n",
    "item_idx = train_df.album_id\n",
    "\n",
    "del train_df[\"profile_id\"], train_df[\"album_id\"], train_df[\"rating\"]"
   ]
  },
  {
   "cell_type": "code",
   "execution_count": 128,
   "id": "10b0ee41",
   "metadata": {},
   "outputs": [
    {
     "name": "stdout",
     "output_type": "stream",
     "text": [
      "lgbm ndcg: 0.2124063912577477\n"
     ]
    }
   ],
   "source": [
    "pred = model.predict(train_df)\n",
    "train_df[\"profile_id\"] = user_idx\n",
    "train_df[\"album_id\"] = item_idx\n",
    "train_df[\"pred\"] = pred\n",
    "\n",
    "lgbm_sub_df = train_df.sort_values(by='pred', ascending=False).groupby('profile_id').head(25)\n",
    "lgbm_user_items_dict = lgbm_sub_df.groupby('profile_id')['album_id'].unique().to_dict()\n",
    "sample_sumbission_week['album_id'] = sample_sumbission_week['profile_id'].apply(lambda x: lgbm_user_items_dict.get(x, []))\n",
    "\n",
    "print('lgbm ndcg:', ndcg_calculator(sample_sumbission_week, test_answer_week, 25))"
   ]
  },
  {
   "cell_type": "markdown",
   "id": "8aa56a1f",
   "metadata": {},
   "source": [
    "# 최종 제출"
   ]
  },
  {
   "cell_type": "code",
   "execution_count": 41,
   "id": "c4d76344",
   "metadata": {},
   "outputs": [],
   "source": [
    "sample_submission_week = pd.read_csv(path + 'sample_submission.csv')"
   ]
  },
  {
   "cell_type": "code",
   "execution_count": 42,
   "id": "aa6a10ad",
   "metadata": {},
   "outputs": [],
   "source": [
    "# pred = model.predict(train_df)\n",
    "# train_df[\"profile_id\"] = user_idx\n",
    "# train_df[\"album_id\"] = item_idx\n",
    "# train_df[\"pred\"] = pred\n",
    "train_df = X_train.copy()\n",
    "lgbm_sub_df = train_df.sort_values(by='pred', ascending=False).groupby('profile_id').head(25)\n",
    "lgbm_user_items_dict = lgbm_sub_df.groupby('profile_id')['album_id'].unique().to_dict()\n",
    "sample_submission_week['predicted_list'] = sample_submission_week['profile_id'].apply(lambda x: list(lgbm_user_items_dict.get(x, [])))"
   ]
  },
  {
   "cell_type": "code",
   "execution_count": 44,
   "id": "4b8d0af4",
   "metadata": {},
   "outputs": [],
   "source": [
    "sample_submission_week.to_csv(\"submission_1202_final_ver2.csv\",index=False)"
   ]
  },
  {
   "cell_type": "code",
   "execution_count": 294,
   "id": "a5fb3857",
   "metadata": {},
   "outputs": [
    {
     "name": "stderr",
     "output_type": "stream",
     "text": [
      "100%|███████████████████████████████████████| 8057/8057 [03:06<00:00, 43.26it/s]\n"
     ]
    }
   ],
   "source": [
    "# # # repu\n",
    "# # X_train = X_train[[\"profile_id\",\"album_id\",\"pred\"]]\n",
    "# # repurchase_dict = df_train[[\"profile_id\",\"album_id\"]].groupby(\"profile_id\")[\"album_id\"].unique().to_dict()\n",
    "\n",
    "# # repurchase_df_list = []\n",
    "# # for user_id in tqdm(df_train.profile_id.unique()):\n",
    "# #     repurchase_df_list.append(X_train[(X_train[\"profile_id\"]==user_id)&(X_train[\"album_id\"].isin(repurchase_dict[user_id]))])\n",
    "# # repurchase_df = pd.concat(repurchase_df_list)\n",
    "\n",
    "# # repurchase_dict = df_train[[\"profile_id\",\"album_id\"]].groupby(\"profile_id\")[\"album_id\"].unique().to_dict()\n",
    "\n",
    "# # non_repurchase_df_list = []\n",
    "# # for user_id in tqdm(df_train.profile_id.unique()):\n",
    "# #     non_repurchase_df_list.append(X_train[(X_train[\"profile_id\"]==user_id)&~(X_train[\"album_id\"].isin(repurchase_dict[user_id]))])\n",
    "# # non_repurchase_df = pd.concat(non_repurchase_df_list)\n",
    "\n",
    "# repurchase_df = repurchase_df.sort_values(by=[\"profile_id\",\"pred\"], ascending=False)\n",
    "# non_repurchase_df = non_repurchase_df.sort_values(by=[\"profile_id\",\"pred\"], ascending=False)\n",
    "# repurchase_pred_df= repurchase_df.groupby(\"profile_id\")[\"album_id\"].unique().reset_index()\n",
    "# repurchase_pred_df[\"album_id\"] = repurchase_pred_df[\"album_id\"].apply(lambda x: x[:20])\n",
    "\n",
    "# non_repurchase_dict = non_repurchase_df.groupby(\"profile_id\")[\"album_id\"].unique().to_dict()\n",
    "\n",
    "# pred_list = {}\n",
    "# for idx, row in repurchase_pred_df.iterrows():\n",
    "#     pred_list[row.profile_id] = row.album_id.tolist() + non_repurchase_dict.get(row.profile_id,[]).tolist()\n",
    "    \n",
    "# repurchase_pred_df[\"album_id\"] = repurchase_pred_df[\"profile_id\"].apply(lambda x: pred_list.get(x,[]))\n",
    "\n",
    "# lgbm_user_items_dict = repurchase_pred_df.set_index(\"profile_id\").to_dict()\n",
    "\n",
    "# sample_sumbission_week['album_id'] = sample_sumbission_week['profile_id'].apply(lambda x: (lgbm_user_items_dict[\"album_id\"].get(x, []))[:25])\n",
    "\n",
    "# print('lgbm ndcg:', ndcg_calculator(sample_sumbission_week, test_answer_week, 25))"
   ]
  },
  {
   "cell_type": "markdown",
   "id": "e0746f60",
   "metadata": {},
   "source": [
    "# 모델 CV 부분"
   ]
  },
  {
   "cell_type": "code",
   "execution_count": null,
   "id": "922fa75c",
   "metadata": {},
   "outputs": [],
   "source": [
    "# pred_1 = lgb_model_1.predict(train_df)\n",
    "# pred_2 = lgb_model_2.predict(train_df)\n",
    "# pred_3 = lgb_model_3.predict(train_df)\n",
    "\n",
    "# pred = np.mean([pred_1, pred_2, pred_3], axis=0)\n",
    "# train_df[\"profile_id\"] = user_idx\n",
    "# train_df[\"album_id\"] = item_idx\n",
    "# train_df[\"pred\"] = pred\n",
    "\n",
    "# lgbm_sub_df = train_df.sort_values(by='pred', ascending=False).groupby('profile_id').head(25)\n",
    "# lgbm_user_items_dict = lgbm_sub_df.groupby('profile_id')['album_id'].unique().to_dict()\n",
    "# sample_sumbission_week['album_id'] = sample_sumbission_week['profile_id'].apply(lambda x: lgbm_user_items_dict.get(x, []))\n",
    "\n",
    "# print('lgbm ndcg:', ndcg_calculator(sample_sumbission_week, test_answer_week, 25))"
   ]
  },
  {
   "cell_type": "code",
   "execution_count": null,
   "id": "27642d7e",
   "metadata": {},
   "outputs": [],
   "source": [
    "def evaluation(model, train_df, df_train, sample_sumbission_week,MP_cand, user_idx, item_idx):\n",
    "    pred = model.predict(train_df)\n",
    "    train_df[\"profile_id\"] = user_idx\n",
    "    train_df[\"album_id\"] = item_idx\n",
    "    train_df[\"pred\"] = pred\n",
    "\n",
    "    album_max_dict = df_train.groupby(\"profile_id\")[\"album_id\"].max().to_dict()\n",
    "\n",
    "    last_train_df_list = []\n",
    "    for user_id in train_df.profile_id.unique():\n",
    "        last_train_df_list.append(train_df[(train_df[\"profile_id\"]==user_id)&(train_df[\"album_id\"]<=album_max_dict[user_id])])\n",
    "    after_train_df = pd.concat(last_train_df_list)\n",
    "\n",
    "    lgbm_sub_df = after_train_df.sort_values(by='pred', ascending=False).groupby('profile_id').head(25)\n",
    "    lgbm_user_items_dict = lgbm_sub_df.groupby('profile_id')['album_id'].unique().to_dict()\n",
    "    sample_sumbission_week['predicted_list'] = sample_sumbission_week['profile_id'].apply(lambda x: lgbm_user_items_dict.get(x, []))\n",
    "    \n",
    "#     MP_list = MP_cand.album_id.unique()\n",
    "    \n",
    "#     # cold start user file MP_list top25\n",
    "#     sumbission_cold = sample_sumbission_week.copy()\n",
    "#     sumbission_cold['predicted_list'] = sumbission_cold['predicted_list']\\\n",
    "#                                             .apply(lambda x: list(dict.fromkeys(np.append(x, MP_list)))[:n])\n",
    "    \n",
    "#     print('lgbm ndcg:', ndcg_calculator(sample_sumbission_week, test_answer_week, 25))\n",
    "#     return sumbission_cold\n",
    "    return sample_sumbission_week, album_max_dict"
   ]
  },
  {
   "cell_type": "code",
   "execution_count": null,
   "id": "48fcc6bb",
   "metadata": {},
   "outputs": [],
   "source": [
    "submission = pd.read_csv(path + 'sample_submission.csv')"
   ]
  },
  {
   "cell_type": "code",
   "execution_count": null,
   "id": "7aa844c4",
   "metadata": {},
   "outputs": [],
   "source": [
    "sample_sumbission_week, album_max_dict = evaluation(model, train_df, df_train, submission, MP_cand, user_idx, item_idx)\n",
    "\n",
    "for i in sample_sumbission_week.predicted_list:\n",
    "    if len(i)<25:\n",
    "        print(len(i))"
   ]
  },
  {
   "cell_type": "code",
   "execution_count": null,
   "id": "ab79a2ee",
   "metadata": {},
   "outputs": [],
   "source": [
    "train_df.groupby(\"profile_id\").count()[\"album_id\"][train_df.groupby(\"profile_id\").count()[\"album_id\"]<25]"
   ]
  },
  {
   "cell_type": "code",
   "execution_count": null,
   "id": "bd397972",
   "metadata": {},
   "outputs": [],
   "source": [
    "sample_sumbission_week.to_csv(\"sumbission_ver12.csv\",index=False)"
   ]
  },
  {
   "cell_type": "code",
   "execution_count": null,
   "id": "ed98d122",
   "metadata": {},
   "outputs": [],
   "source": [
    "# meta_df = pd.read_csv(path+\"meta_data.csv\")\n",
    "meta_df = meta_df.drop(columns=[\"genre_large\",\"run_time\",\"onair_date\"])"
   ]
  },
  {
   "cell_type": "code",
   "execution_count": null,
   "id": "55febdfc",
   "metadata": {},
   "outputs": [],
   "source": [
    "columns = [\"title\",\"sub_title\",\"genre_mid\",\"genre_small\",\"country\",\"cast_1\",\"cast_2\",\"cast_3\",\"cast_4\",\"cast_5\",\"cast_6\",\"cast_7\"]\n",
    "meta_one_hot_df = pd.get_dummies(meta_df, columns = columns)"
   ]
  },
  {
   "cell_type": "code",
   "execution_count": null,
   "id": "06b4983b",
   "metadata": {},
   "outputs": [],
   "source": [
    "series_list = []\n",
    "for idx, row in tqdm(meta_df.iterrows()):\n",
    "    row_dict = {}\n",
    "    row_dict[\"album_id\"] = [row[\"album_id\"]]\n",
    "    for col in columns:\n",
    "        if type(row[col]) == str:\n",
    "            row_dict[row[col]] = [1]\n",
    "    series_list.append(row_dict)"
   ]
  },
  {
   "cell_type": "code",
   "execution_count": null,
   "id": "a34fb733",
   "metadata": {},
   "outputs": [],
   "source": [
    "plt.figure(figsize=(15,10))\n",
    "sns.scatterplot(x=\"profile_id\" , y=\"album_id\" , data=lgbm_sub_df)\n",
    "plt.show()"
   ]
  },
  {
   "cell_type": "code",
   "execution_count": null,
   "id": "341f4b90",
   "metadata": {},
   "outputs": [],
   "source": [
    "plt.figure(figsize=(15,10))\n",
    "sns.scatterplot(x=\"profile_id\" , y=\"album_id\" , data=df_train)\n",
    "plt.show()"
   ]
  },
  {
   "cell_type": "code",
   "execution_count": null,
   "id": "ab1f8969",
   "metadata": {},
   "outputs": [],
   "source": [
    "plt.figure(figsize=(15,10))\n",
    "sns.scatterplot(x=\"profile_id\" , y=\"album_id\" , data=label_df)\n",
    "plt.show()"
   ]
  },
  {
   "cell_type": "code",
   "execution_count": null,
   "id": "eb2c9f65",
   "metadata": {},
   "outputs": [],
   "source": [
    "real_target_list = []\n",
    "for idx, row in test_answer_week.iterrows():\n",
    "    df = pd.DataFrame()\n",
    "    df[\"album_id\"] = row[\"album_id\"]\n",
    "    df[\"profile_id\"] = row[\"profile_id\"]\n",
    "    real_target_list.append(df)\n",
    "real_target_df = pd.concat(real_target_list)\n",
    "pred_df = lgbm_sub_df[[\"profile_id\",\"album_id\",\"pred\"]]"
   ]
  },
  {
   "cell_type": "code",
   "execution_count": null,
   "id": "6a8c6f4b",
   "metadata": {
    "scrolled": false
   },
   "outputs": [],
   "source": [
    "plt.figure(figsize=(15,10))\n",
    "sns.scatterplot(x=\"profile_id\" , y=\"album_id\" , data=pred_df)\n",
    "plt.show()"
   ]
  },
  {
   "cell_type": "code",
   "execution_count": null,
   "id": "b0937dc4",
   "metadata": {},
   "outputs": [],
   "source": [
    "import matplotlib.pyplot as plt\n",
    "import seaborn as sns\n",
    "plt.figure(figsize=(15,10))\n",
    "sns.scatterplot(x=\"profile_id\" , y=\"album_id\" , data=real_target_df)\n",
    "plt.show()"
   ]
  },
  {
   "cell_type": "code",
   "execution_count": null,
   "id": "4751edef",
   "metadata": {},
   "outputs": [],
   "source": [
    "# cold user MP로 채우기 \n",
    "MP_list = MP_cand.album_id.unique()\n",
    "\n",
    "sample_sumbission_cold = sample_sumbission.copy()\n",
    "sample_sumbission_cold['album_id'] = sample_sumbission_cold['album_id']\\\n",
    "                                        .apply(lambda x: list(dict.fromkeys(np.append(x, MP_list)))[:n])"
   ]
  },
  {
   "cell_type": "code",
   "execution_count": null,
   "id": "ac1cbff9",
   "metadata": {
    "scrolled": true
   },
   "outputs": [],
   "source": [
    "ndcg_calculator(sample_sumbission_cold, test_answer_week, n)"
   ]
  },
  {
   "cell_type": "markdown",
   "id": "531d3cda",
   "metadata": {},
   "source": [
    "# Evaluation"
   ]
  },
  {
   "cell_type": "markdown",
   "id": "6c76681a",
   "metadata": {},
   "source": [
    "### experiment\n",
    "- num_leaves= 20, learning_rate=0.005, n_estimators:5\n",
    "- 어느 cand 중요한 지 판단\n",
    "- popular_articles_cand :(10,10) , personal_MP_candidate:(5), genre_candidate: max(10,10)\n",
    "\n",
    "### week\n",
    "- week ndcg score : 0.05611031122402796\n",
    "- popular_articles_cand week: ndcg 0.028022766659891125 (total unique item: 12)\n",
    "- personal_MP_candidate week: ndcg 0.02896244104871668  (total unique item: 4303)\n",
    "- genre_candidate week:       ndcg 0.01579135161487282  (total unique item: 157)\n",
    "- (popular_articles_cand, personal_MP_candidate) week: ndcg 0.05206722084683086  (total unique item: 4303)\n",
    "- (popular_articles_cand, genre_candidate) week: 0.03809584406788012 (total unique item: 161)\n",
    "- (personal_MP_candidate, genre_candidate) week: 0.041085241338965385 (total unique item: 4338)\n",
    "\n",
    "### month\n",
    "- month ndcg score : 0.08036130090004782\n",
    "- popular_articles_cand month: ndcg 0.05945057771810242 (total unique item: 15)\n",
    "- personal_MP_candidate month: ndcg 0.028477345633295483  (total unique item: 2826)\n",
    "- genre_candidate       month: ndcg 0.017431233023063257  (total unique item: 150)\n",
    "- (popular_articles_cand, personal_MP_candidate) month: ndcg 0.05206722084683086  (total unique item: 2826)\n",
    "- (popular_articles_cand, genre_candidate) month: 0.0680887232688415 (total unique item: 155)\n",
    "- (personal_MP_candidate, genre_candidate) month: 0.041085241338965385 (total unique item: 2872)"
   ]
  },
  {
   "cell_type": "code",
   "execution_count": null,
   "id": "bf4a18d9",
   "metadata": {},
   "outputs": [],
   "source": [
    "def evaluation(\n",
    "            X_train:pd.DataFrame(), \n",
    "            sumbission:pd.DataFrame(), \n",
    "            n:int, \n",
    "            MP_cand:pd.DataFrame()\n",
    "            )->pd.DataFrame():\n",
    "    \n",
    "    MP_list = MP_cand.album_id.unique()\n",
    "    \n",
    "    # each user pred 25 items\n",
    "    lgbm_sub_df = X_train.sort_values(by='pred', ascending=False).groupby('profile_id').head(n)\n",
    "    lgbm_user_items_dict = lgbm_sub_df.groupby('profile_id')['album_id'].unique().to_dict()\n",
    "    sumbission['predicted_list'] = sumbission['profile_id']\\\n",
    "                                            .apply(lambda x: lgbm_user_items_dict.get(x, []))\n",
    "    \n",
    "    # cold start user file MP_list top25\n",
    "    sumbission_cold = sumbission.copy()\n",
    "    sumbission_cold['predicted_list'] = sumbission_cold['predicted_list']\\\n",
    "                                            .apply(lambda x: list(dict.fromkeys(np.append(x, MP_list)))[:n])\n",
    "    \n",
    "    return sumbission, sumbission_cold"
   ]
  },
  {
   "cell_type": "code",
   "execution_count": null,
   "id": "12418cc8",
   "metadata": {},
   "outputs": [],
   "source": [
    "submission = pd.read_csv(path + 'sample_submission.csv')\n",
    "sumbission_pred, sumbission_cold = evaluation(X_train, submission, n, MP_cand)"
   ]
  },
  {
   "cell_type": "code",
   "execution_count": null,
   "id": "80977c2e",
   "metadata": {},
   "outputs": [],
   "source": [
    "set_list = {}\n",
    "for list_i in sumbission_cold.predicted_list:\n",
    "    set_list[str(list_i)] = 0"
   ]
  },
  {
   "cell_type": "code",
   "execution_count": null,
   "id": "0d3e4e6a",
   "metadata": {},
   "outputs": [],
   "source": [
    "print('같은 추천을 받은 유저 수:', 8311 - len(set_list))"
   ]
  },
  {
   "cell_type": "code",
   "execution_count": null,
   "id": "74fb0c13",
   "metadata": {},
   "outputs": [],
   "source": [
    "sumbission_cold"
   ]
  },
  {
   "cell_type": "code",
   "execution_count": null,
   "id": "9dfc7d46",
   "metadata": {},
   "outputs": [],
   "source": [
    "# 제출 조건 충족 확인\n",
    "assert submission.profile_id.nunique() == sumbission_cold.profile_id.nunique()\n",
    "for pred_list in sumbission_cold.predicted_list:\n",
    "    assert len(pred_list) == 25"
   ]
  },
  {
   "cell_type": "code",
   "execution_count": null,
   "id": "cf6ad29f",
   "metadata": {},
   "outputs": [],
   "source": [
    "sumbission_cold.to_csv('lgbm_candidate_submission_NCF_candidate_ver10.csv', index=False)"
   ]
  },
  {
   "cell_type": "code",
   "execution_count": null,
   "id": "440b0e9c",
   "metadata": {},
   "outputs": [],
   "source": []
  }
 ],
 "metadata": {
  "kernelspec": {
   "display_name": "Python 3 (ipykernel)",
   "language": "python",
   "name": "python3"
  },
  "language_info": {
   "codemirror_mode": {
    "name": "ipython",
    "version": 3
   },
   "file_extension": ".py",
   "mimetype": "text/x-python",
   "name": "python",
   "nbconvert_exporter": "python",
   "pygments_lexer": "ipython3",
   "version": "3.9.0"
  }
 },
 "nbformat": 4,
 "nbformat_minor": 5
}
