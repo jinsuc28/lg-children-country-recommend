{
 "cells": [
  {
   "cell_type": "code",
   "execution_count": 1,
   "id": "2d2ea04f",
   "metadata": {},
   "outputs": [
    {
     "name": "stderr",
     "output_type": "stream",
     "text": [
      "../../src/dataload.py:29: FutureWarning: The default dtype for empty Series will be 'object' instead of 'float64' in a future version. Specify a dtype explicitly to silence this warning.\n",
      "  def day_feature(df_train:pd.DataFrame())->pd.Series():\n"
     ]
    }
   ],
   "source": [
    "import sys\n",
    "sys.path.append(\"../../src\")\n",
    "\n",
    "import numpy as np\n",
    "import pandas as pd\n",
    "\n",
    "import lightgbm\n",
    "\n",
    "from utils import ndcg_calculator\n",
    "from LGBM_Rank import LGBMRank\n",
    "from dataload import dataload, day_week_feature_engineering, train_label_split, feature_dataload\n",
    "from feature_engineering import *\n",
    "from candidate import *\n",
    "from tqdm import tqdm"
   ]
  },
  {
   "cell_type": "code",
   "execution_count": 2,
   "id": "7b88ff57",
   "metadata": {},
   "outputs": [],
   "source": [
    "import os\n",
    "def set_seed(seed=42):\n",
    "    '''Sets the seed of the entire notebook so results are the same every time we run.\n",
    "    This is for REPRODUCIBILITY.'''\n",
    "    np.random.seed(seed)\n",
    "#     torch.manual_seed(seed)\n",
    "#     torch.cuda.manual_seed(seed)\n",
    "    # When Running on the CuDNN backend, two further options muset be set\n",
    "#     torch.backends.cudnn.deteministic =True\n",
    "#     torch.backends.cudnn.benchmark = False\n",
    "    # Set a fixed value for the hash seed\n",
    "    os.environ['PYTHONHASHSEED'] = str(seed)\n",
    "    \n",
    "set_seed()"
   ]
  },
  {
   "cell_type": "markdown",
   "id": "2836791b",
   "metadata": {},
   "source": [
    "# dataload\n",
    "- 편의상 df_train_week 변수 통일하여 사용함"
   ]
  },
  {
   "cell_type": "code",
   "execution_count": 3,
   "id": "9350fa85",
   "metadata": {},
   "outputs": [],
   "source": [
    "path='../../data/'\n",
    "\n",
    "test_answer_week, test_answer_month, \\\n",
    "df_train_week, df_train_month, \\\n",
    "sample_sumbission_week, sample_sumbission_month = dataload(path)"
   ]
  },
  {
   "cell_type": "code",
   "execution_count": 4,
   "id": "169ea76a",
   "metadata": {},
   "outputs": [],
   "source": [
    "# # 전체 데이터 이용시\n",
    "df_history = pd.read_csv(path+'history_data.csv')\n",
    "df_profile = pd.read_csv(path+'profile_data.csv')\n",
    "\n",
    "# ## 날짜 전처리\n",
    "df_history = df_history.assign(log_dt = pd.to_datetime(df_history.log_time//100, format=\"%Y%m%d%H%M\"))\n",
    "df_history = df_history.assign(log_date = df_history.log_dt.dt.floor(\"D\"))\n",
    "df_history = df_history.drop(\"log_time\", axis=1)\n",
    "\n",
    "df_train_week = df_history.copy()\n",
    "\n",
    "# # month 이용\n",
    "# # df_train_week = df_train_month.copy()"
   ]
  },
  {
   "cell_type": "markdown",
   "id": "ebada74b",
   "metadata": {},
   "source": [
    "# feature dataload"
   ]
  },
  {
   "cell_type": "code",
   "execution_count": 5,
   "id": "914021de",
   "metadata": {},
   "outputs": [
    {
     "name": "stderr",
     "output_type": "stream",
     "text": [
      "../../src/dataload.py:87: DtypeWarning: Columns (15) have mixed types. Specify dtype option on import or set low_memory=False.\n",
      "  meta_df = pd.read_csv(path + \"meta_data.csv\")\n"
     ]
    }
   ],
   "source": [
    "# data load\n",
    "watch_df, buy_df, search_df, meta_df, profile_df = feature_dataload(path)"
   ]
  },
  {
   "cell_type": "code",
   "execution_count": 8,
   "id": "fcca8c6e",
   "metadata": {},
   "outputs": [],
   "source": [
    "# feature engineering\n",
    "df_train_week = history_feature_engineering(df_train_week)\n",
    "\n",
    "# short_con_freq_feature = df_train_week[[\"album_id\",\"short_trailer\",\"continuous_play\",\"album_viewcount_freq\"]]\n",
    "\n",
    "watch_df_feature = watch_feature_engineering(watch_df)\n",
    "watch_df_feature = watch_df_feature.drop_duplicates(subset=[\"profile_id\",\"album_id\"])\n",
    "\n",
    "paid_df_feature = paid_feature_engineering(df_train_week, buy_df)\n",
    "\n",
    "searched_df_feature = searched_feature_engineering(df_train_week, search_df)\n",
    "\n",
    "meta_df_feature = meta_feature_engineering(meta_df)\n",
    "# meta_df_feature = meta_df_feature.drop(columns=\"sub_title\").drop_duplicates()\n",
    "meta_df_feature2 = fav_cast(df_history, meta_df)\n",
    "\n",
    "profile_df_feature = profile_feature_engineering(profile_df)\n",
    "profile_df_feature = profile_df_feature[[\"profile_id\",\"sex\",\"age\",\"age_bin\"]]"
   ]
  },
  {
   "cell_type": "code",
   "execution_count": 9,
   "id": "2f855c27",
   "metadata": {},
   "outputs": [
    {
     "data": {
      "text/html": [
       "<div>\n",
       "<style scoped>\n",
       "    .dataframe tbody tr th:only-of-type {\n",
       "        vertical-align: middle;\n",
       "    }\n",
       "\n",
       "    .dataframe tbody tr th {\n",
       "        vertical-align: top;\n",
       "    }\n",
       "\n",
       "    .dataframe thead th {\n",
       "        text-align: right;\n",
       "    }\n",
       "</style>\n",
       "<table border=\"1\" class=\"dataframe\">\n",
       "  <thead>\n",
       "    <tr style=\"text-align: right;\">\n",
       "      <th></th>\n",
       "      <th>album_id</th>\n",
       "      <th>genre_large</th>\n",
       "      <th>genre_mid</th>\n",
       "      <th>genre_small</th>\n",
       "      <th>country</th>\n",
       "      <th>cast_1</th>\n",
       "    </tr>\n",
       "  </thead>\n",
       "  <tbody>\n",
       "    <tr>\n",
       "      <th>0</th>\n",
       "      <td>749</td>\n",
       "      <td>키즈</td>\n",
       "      <td>TV만화</td>\n",
       "      <td>etc</td>\n",
       "      <td>한국</td>\n",
       "      <td>타요</td>\n",
       "    </tr>\n",
       "    <tr>\n",
       "      <th>1</th>\n",
       "      <td>750</td>\n",
       "      <td>키즈</td>\n",
       "      <td>TV만화</td>\n",
       "      <td>etc</td>\n",
       "      <td>한국</td>\n",
       "      <td>타요</td>\n",
       "    </tr>\n",
       "    <tr>\n",
       "      <th>2</th>\n",
       "      <td>2131</td>\n",
       "      <td>키즈</td>\n",
       "      <td>TV만화</td>\n",
       "      <td>etc</td>\n",
       "      <td>한국</td>\n",
       "      <td>타요</td>\n",
       "    </tr>\n",
       "    <tr>\n",
       "      <th>3</th>\n",
       "      <td>2625</td>\n",
       "      <td>키즈</td>\n",
       "      <td>TV만화</td>\n",
       "      <td>etc</td>\n",
       "      <td>한국</td>\n",
       "      <td>타요</td>\n",
       "    </tr>\n",
       "    <tr>\n",
       "      <th>4</th>\n",
       "      <td>2594</td>\n",
       "      <td>키즈</td>\n",
       "      <td>TV만화</td>\n",
       "      <td>etc</td>\n",
       "      <td>한국</td>\n",
       "      <td>타요</td>\n",
       "    </tr>\n",
       "    <tr>\n",
       "      <th>...</th>\n",
       "      <td>...</td>\n",
       "      <td>...</td>\n",
       "      <td>...</td>\n",
       "      <td>...</td>\n",
       "      <td>...</td>\n",
       "      <td>...</td>\n",
       "    </tr>\n",
       "    <tr>\n",
       "      <th>42596</th>\n",
       "      <td>39872</td>\n",
       "      <td>키즈</td>\n",
       "      <td>놀이교실</td>\n",
       "      <td>etc</td>\n",
       "      <td>한국</td>\n",
       "      <td>etc</td>\n",
       "    </tr>\n",
       "    <tr>\n",
       "      <th>42597</th>\n",
       "      <td>39873</td>\n",
       "      <td>키즈</td>\n",
       "      <td>놀이교실</td>\n",
       "      <td>etc</td>\n",
       "      <td>한국</td>\n",
       "      <td>etc</td>\n",
       "    </tr>\n",
       "    <tr>\n",
       "      <th>42598</th>\n",
       "      <td>39874</td>\n",
       "      <td>키즈</td>\n",
       "      <td>놀이교실</td>\n",
       "      <td>etc</td>\n",
       "      <td>한국</td>\n",
       "      <td>etc</td>\n",
       "    </tr>\n",
       "    <tr>\n",
       "      <th>42599</th>\n",
       "      <td>4779</td>\n",
       "      <td>키즈</td>\n",
       "      <td>책</td>\n",
       "      <td>etc</td>\n",
       "      <td>한국</td>\n",
       "      <td>etc</td>\n",
       "    </tr>\n",
       "    <tr>\n",
       "      <th>42601</th>\n",
       "      <td>11629</td>\n",
       "      <td>키즈</td>\n",
       "      <td>노래율동</td>\n",
       "      <td>etc</td>\n",
       "      <td>한국</td>\n",
       "      <td>타요와 친구들</td>\n",
       "    </tr>\n",
       "  </tbody>\n",
       "</table>\n",
       "<p>39875 rows × 6 columns</p>\n",
       "</div>"
      ],
      "text/plain": [
       "       album_id genre_large genre_mid genre_small country   cast_1\n",
       "0           749          키즈      TV만화         etc      한국       타요\n",
       "1           750          키즈      TV만화         etc      한국       타요\n",
       "2          2131          키즈      TV만화         etc      한국       타요\n",
       "3          2625          키즈      TV만화         etc      한국       타요\n",
       "4          2594          키즈      TV만화         etc      한국       타요\n",
       "...         ...         ...       ...         ...     ...      ...\n",
       "42596     39872          키즈      놀이교실         etc      한국      etc\n",
       "42597     39873          키즈      놀이교실         etc      한국      etc\n",
       "42598     39874          키즈      놀이교실         etc      한국      etc\n",
       "42599      4779          키즈         책         etc      한국      etc\n",
       "42601     11629          키즈      노래율동         etc      한국  타요와 친구들\n",
       "\n",
       "[39875 rows x 6 columns]"
      ]
     },
     "execution_count": 9,
     "metadata": {},
     "output_type": "execute_result"
    }
   ],
   "source": [
    "meta_df_feature"
   ]
  },
  {
   "cell_type": "code",
   "execution_count": 10,
   "id": "dadfc020",
   "metadata": {},
   "outputs": [
    {
     "data": {
      "text/html": [
       "<div>\n",
       "<style scoped>\n",
       "    .dataframe tbody tr th:only-of-type {\n",
       "        vertical-align: middle;\n",
       "    }\n",
       "\n",
       "    .dataframe tbody tr th {\n",
       "        vertical-align: top;\n",
       "    }\n",
       "\n",
       "    .dataframe thead th {\n",
       "        text-align: right;\n",
       "    }\n",
       "</style>\n",
       "<table border=\"1\" class=\"dataframe\">\n",
       "  <thead>\n",
       "    <tr style=\"text-align: right;\">\n",
       "      <th></th>\n",
       "      <th>profile_id</th>\n",
       "      <th>album_id</th>\n",
       "      <th>searched_label</th>\n",
       "    </tr>\n",
       "  </thead>\n",
       "  <tbody>\n",
       "    <tr>\n",
       "      <th>0</th>\n",
       "      <td>3</td>\n",
       "      <td>15</td>\n",
       "      <td>1</td>\n",
       "    </tr>\n",
       "    <tr>\n",
       "      <th>1</th>\n",
       "      <td>3</td>\n",
       "      <td>16</td>\n",
       "      <td>0</td>\n",
       "    </tr>\n",
       "    <tr>\n",
       "      <th>2</th>\n",
       "      <td>3</td>\n",
       "      <td>17</td>\n",
       "      <td>0</td>\n",
       "    </tr>\n",
       "    <tr>\n",
       "      <th>3</th>\n",
       "      <td>3</td>\n",
       "      <td>18</td>\n",
       "      <td>0</td>\n",
       "    </tr>\n",
       "    <tr>\n",
       "      <th>4</th>\n",
       "      <td>3</td>\n",
       "      <td>19</td>\n",
       "      <td>0</td>\n",
       "    </tr>\n",
       "    <tr>\n",
       "      <th>...</th>\n",
       "      <td>...</td>\n",
       "      <td>...</td>\n",
       "      <td>...</td>\n",
       "    </tr>\n",
       "    <tr>\n",
       "      <th>1005610</th>\n",
       "      <td>33032</td>\n",
       "      <td>2133</td>\n",
       "      <td>0</td>\n",
       "    </tr>\n",
       "    <tr>\n",
       "      <th>1005616</th>\n",
       "      <td>33032</td>\n",
       "      <td>190</td>\n",
       "      <td>1</td>\n",
       "    </tr>\n",
       "    <tr>\n",
       "      <th>1005623</th>\n",
       "      <td>33032</td>\n",
       "      <td>381</td>\n",
       "      <td>1</td>\n",
       "    </tr>\n",
       "    <tr>\n",
       "      <th>1005637</th>\n",
       "      <td>33032</td>\n",
       "      <td>327</td>\n",
       "      <td>1</td>\n",
       "    </tr>\n",
       "    <tr>\n",
       "      <th>1005642</th>\n",
       "      <td>33032</td>\n",
       "      <td>375</td>\n",
       "      <td>0</td>\n",
       "    </tr>\n",
       "  </tbody>\n",
       "</table>\n",
       "<p>380547 rows × 3 columns</p>\n",
       "</div>"
      ],
      "text/plain": [
       "         profile_id  album_id searched_label\n",
       "0                 3        15              1\n",
       "1                 3        16              0\n",
       "2                 3        17              0\n",
       "3                 3        18              0\n",
       "4                 3        19              0\n",
       "...             ...       ...            ...\n",
       "1005610       33032      2133              0\n",
       "1005616       33032       190              1\n",
       "1005623       33032       381              1\n",
       "1005637       33032       327              1\n",
       "1005642       33032       375              0\n",
       "\n",
       "[380547 rows x 3 columns]"
      ]
     },
     "execution_count": 10,
     "metadata": {},
     "output_type": "execute_result"
    }
   ],
   "source": [
    "searched_df_feature"
   ]
  },
  {
   "cell_type": "markdown",
   "id": "75b245fb",
   "metadata": {},
   "source": [
    "# day_week feature engineering\n",
    "- to split label, train data"
   ]
  },
  {
   "cell_type": "code",
   "execution_count": 11,
   "id": "ef41abdb",
   "metadata": {},
   "outputs": [
    {
     "name": "stdout",
     "output_type": "stream",
     "text": [
      "log date min: 2022-03-01 00:00:00 log date max: 2022-04-30 00:00:00\n",
      "min day: 0 max day: 60\n",
      "min week: 0 max week: 8\n"
     ]
    }
   ],
   "source": [
    "df_train_week = day_week_feature_engineering(df_train_week)"
   ]
  },
  {
   "cell_type": "markdown",
   "id": "607a7c69",
   "metadata": {},
   "source": [
    "# label & train split"
   ]
  },
  {
   "cell_type": "code",
   "execution_count": 12,
   "id": "1e7df3c8",
   "metadata": {},
   "outputs": [
    {
     "name": "stdout",
     "output_type": "stream",
     "text": [
      "split last week: 8\n"
     ]
    }
   ],
   "source": [
    "# Label, train data split\n",
    "df_train, label_df = train_label_split(df_train_week)"
   ]
  },
  {
   "cell_type": "code",
   "execution_count": 13,
   "id": "6ca33153",
   "metadata": {},
   "outputs": [],
   "source": [
    "n = 25"
   ]
  },
  {
   "cell_type": "code",
   "execution_count": 14,
   "id": "7aa17f28",
   "metadata": {},
   "outputs": [
    {
     "data": {
      "text/plain": [
       "(1005651, 1005651)"
      ]
     },
     "execution_count": 14,
     "metadata": {},
     "output_type": "execute_result"
    }
   ],
   "source": [
    "len(df_train), len(df_train_week)"
   ]
  },
  {
   "cell_type": "markdown",
   "id": "1e8fe2e9",
   "metadata": {},
   "source": [
    "# prerpocess"
   ]
  },
  {
   "cell_type": "code",
   "execution_count": 15,
   "id": "45611304",
   "metadata": {},
   "outputs": [],
   "source": [
    "# 총 3개 파일 사용\n",
    "\n",
    "# log dt 기준 duplicates\n",
    "df_train_week = df_train.drop_duplicates(subset=[\"profile_id\",\"album_id\",\"log_dt\"])\n",
    "# ss_id 기준 duplicates\n",
    "personal_train = df_train.drop_duplicates(subset=['profile_id','album_id','ss_id'])\n",
    "# album_id, profile_id 기준으로 duplicates\n",
    "df_train = df_train.drop_duplicates(subset=['profile_id','album_id'])\n",
    "\n",
    "# 전체 유저 한정\n",
    "customers = df_train.profile_id.unique()\n",
    "# 라벨 한정\n",
    "# customers = label_df.profile_id.unique()"
   ]
  },
  {
   "cell_type": "markdown",
   "id": "b4b3d670",
   "metadata": {},
   "source": [
    "# day week features"
   ]
  },
  {
   "cell_type": "code",
   "execution_count": 16,
   "id": "7bea3d92",
   "metadata": {},
   "outputs": [
    {
     "name": "stderr",
     "output_type": "stream",
     "text": [
      "../../src/feature_engineering.py:173: SettingWithCopyWarning: \n",
      "A value is trying to be set on a copy of a slice from a DataFrame.\n",
      "Try using .loc[row_indexer,col_indexer] = value instead\n",
      "\n",
      "See the caveats in the documentation: https://pandas.pydata.org/pandas-docs/stable/user_guide/indexing.html#returning-a-view-versus-a-copy\n",
      "  hour_feature[\"hour\"] = hour_feature[\"log_dt\"].apply(lambda x: x.hour)\n",
      "../../src/feature_engineering.py:178: FutureWarning: The default value of numeric_only in DataFrameGroupBy.sum is deprecated. In a future version, numeric_only will default to False. Either specify numeric_only or select only columns which should be valid for the function.\n",
      "  hour_feature = hour_feature.groupby([\"profile_id\",\"album_id\"]).sum().reset_index()\n"
     ]
    }
   ],
   "source": [
    "interaction_day_week_first = day_week_feature(df_train_week)\n",
    "hour_feature = hour_feature(df_train_week)"
   ]
  },
  {
   "cell_type": "markdown",
   "id": "c418ca3a",
   "metadata": {},
   "source": [
    "# candidate generation"
   ]
  },
  {
   "cell_type": "markdown",
   "id": "4093fc75",
   "metadata": {},
   "source": [
    "# MP"
   ]
  },
  {
   "cell_type": "code",
   "execution_count": 17,
   "id": "17ae8fb7",
   "metadata": {},
   "outputs": [],
   "source": [
    "MP_cand = most_popular(df_train)"
   ]
  },
  {
   "cell_type": "markdown",
   "id": "4b8c818f",
   "metadata": {},
   "source": [
    "# general MP\n",
    "- 마지막 1주, 2주의 MP를 각 유저마다 넣는다."
   ]
  },
  {
   "cell_type": "code",
   "execution_count": 18,
   "id": "d08b5a49",
   "metadata": {},
   "outputs": [
    {
     "name": "stdout",
     "output_type": "stream",
     "text": [
      "CPU times: user 46.6 ms, sys: 2.15 ms, total: 48.8 ms\n",
      "Wall time: 48.3 ms\n"
     ]
    }
   ],
   "source": [
    "%%time\n",
    "general_MP_cand, general_MP_feature = general_most_popular(df_train)"
   ]
  },
  {
   "cell_type": "markdown",
   "id": "ed0dbe09",
   "metadata": {},
   "source": [
    "# personal_MP"
   ]
  },
  {
   "cell_type": "code",
   "execution_count": 19,
   "id": "e05e7118",
   "metadata": {},
   "outputs": [
    {
     "name": "stderr",
     "output_type": "stream",
     "text": [
      "100%|██████████████████████████████████████| 8311/8311 [00:08<00:00, 990.97it/s]\n"
     ]
    },
    {
     "name": "stdout",
     "output_type": "stream",
     "text": [
      "CPU times: user 8.87 s, sys: 249 ms, total: 9.12 s\n",
      "Wall time: 8.98 s\n"
     ]
    }
   ],
   "source": [
    "%%time\n",
    "personal_MP_candidate, personal_MP_feature = personal_most_popular(personal_train)"
   ]
  },
  {
   "cell_type": "markdown",
   "id": "db72069f",
   "metadata": {},
   "source": [
    "# MP_user_genre"
   ]
  },
  {
   "cell_type": "code",
   "execution_count": 20,
   "id": "fc8110b7",
   "metadata": {},
   "outputs": [],
   "source": [
    "# 이전에는 meta 중복때문에 장르 count가 잘못 뻥튀기 되어서 잘못 MP가 매겨짐\n",
    "# %%time\n",
    "genre_candidate = user_genre_most_popular(df_train, meta_df)"
   ]
  },
  {
   "cell_type": "markdown",
   "id": "d31cb6b6",
   "metadata": {},
   "source": [
    "# ALS MF candidate"
   ]
  },
  {
   "cell_type": "code",
   "execution_count": 23,
   "id": "59cfc4f0",
   "metadata": {},
   "outputs": [
    {
     "data": {
      "application/vnd.jupyter.widget-view+json": {
       "model_id": "849b52dd209043ab869f82c6ff7920dd",
       "version_major": 2,
       "version_minor": 0
      },
      "text/plain": [
       "  0%|          | 0/3 [00:00<?, ?it/s]"
      ]
     },
     "metadata": {},
     "output_type": "display_data"
    },
    {
     "name": "stdout",
     "output_type": "stream",
     "text": [
      "item vector shape: (20695, 200) user vector shape (8311, 200)\n",
      "CPU times: user 1min 15s, sys: 13 s, total: 1min 28s\n",
      "Wall time: 14.2 s\n"
     ]
    }
   ],
   "source": [
    "%%time\n",
    "from ALS_MF import MF\n",
    "model = MF(df_train_week, clf={'factors': 200, 'regularization': 0.005, 'iterations': 3, 'n': 100})\n",
    "pred_df, item_vector_feature, user_vector_feature, als_model = model.mf_train()"
   ]
  },
  {
   "cell_type": "code",
   "execution_count": 24,
   "id": "2d211bbe",
   "metadata": {},
   "outputs": [
    {
     "ename": "NameError",
     "evalue": "name 'als_candidate' is not defined",
     "output_type": "error",
     "traceback": [
      "\u001b[0;31m---------------------------------------------------------------------------\u001b[0m",
      "\u001b[0;31mNameError\u001b[0m                                 Traceback (most recent call last)",
      "Cell \u001b[0;32mIn [24], line 1\u001b[0m\n\u001b[0;32m----> 1\u001b[0m \u001b[43mals_candidate\u001b[49m\n",
      "\u001b[0;31mNameError\u001b[0m: name 'als_candidate' is not defined"
     ]
    }
   ],
   "source": [
    "pred_df"
   ]
  },
  {
   "cell_type": "markdown",
   "id": "1f46410c",
   "metadata": {},
   "source": [
    "# Age MP"
   ]
  },
  {
   "cell_type": "code",
   "execution_count": null,
   "id": "85e27f55",
   "metadata": {},
   "outputs": [],
   "source": [
    "def age_mp(history,profile):\n",
    "    age_df = pd.merge(history,profile,how=\"left\",on=\"profile_id\")\n",
    "    age_mp_df = age_df.groupby(['age','album_id'])[[\"act_target_dtl\"]].count().reset_index()\n",
    "    age_mp_df = age_mp_df.rename(columns={\"act_target_dtl\":'age_album_counts'}).sort_values(by=[\"age\",\"age_album_counts\"],ascending=False)\n",
    "\n",
    "    age_mp=[]\n",
    "    for i in range(1,14):\n",
    "        age = i\n",
    "        album_ids = age_mp_df.loc[age_mp_df[(age_mp_df[\"age\"]==i)].index[0:10]].album_id.values\n",
    "        for j in album_ids : \n",
    "            album = j\n",
    "            age_mp.append({\"age\":age , \"album_id\": album})\n",
    "    age_mp_cand_df = pd.DataFrame(age_mp)\n",
    "    return age_mp_cand_df"
   ]
  },
  {
   "cell_type": "code",
   "execution_count": null,
   "id": "f2168502",
   "metadata": {},
   "outputs": [],
   "source": [
    "age_mp_candidate = age_mp(df_history,df_profile)"
   ]
  },
  {
   "cell_type": "code",
   "execution_count": null,
   "id": "5ae71cb4",
   "metadata": {},
   "outputs": [],
   "source": []
  },
  {
   "cell_type": "markdown",
   "id": "a5b43fe5",
   "metadata": {},
   "source": [
    "# apriori candidaate"
   ]
  },
  {
   "cell_type": "code",
   "execution_count": null,
   "id": "493e4a65",
   "metadata": {},
   "outputs": [],
   "source": [
    "%%time\n",
    "from apriori import apriori_train, apriori_candidate\n",
    "rules_confidence_item_week = apriori_train(df_train, 0.1, 0.8)\n",
    "apriori_candidate, apriori_feature = apriori_candidate(df_train_week, rules_confidence_item_week)"
   ]
  },
  {
   "cell_type": "markdown",
   "id": "99a76203",
   "metadata": {},
   "source": [
    "# candidate merge"
   ]
  },
  {
   "cell_type": "code",
   "execution_count": null,
   "id": "8db68f87",
   "metadata": {},
   "outputs": [],
   "source": [
    "general_MP_cand.album_id.nunique(), personal_MP_candidate.album_id.nunique(), genre_candidate.album_id.nunique(),\\\n",
    "als_candidate.album_id.nunique(), apriori_candidate.album_id.nunique()"
   ]
  },
  {
   "cell_type": "code",
   "execution_count": null,
   "id": "fc94154c",
   "metadata": {},
   "outputs": [],
   "source": [
    "candidate_0 = MP_cand\n",
    "candidate_1 = general_MP_cand[['profile_id','album_id']]\n",
    "candidate_2 = personal_MP_candidate[['profile_id','album_id']]\n",
    "candidate_3 = genre_candidate[['profile_id','album_id']]\n",
    "candidate_4 = als_candidate.copy()\n",
    "candidate_5 = apriori_candidate.copy()\n",
    "\n",
    "cand = pd.concat([candidate_0, candidate_1, candidate_2, candidate_3, candidate_4, candidate_5])\n",
    "cand.drop_duplicates(subset=['profile_id','album_id'],inplace=True)\n",
    "\n",
    "print('cand 데이터 수:',len(cand))\n",
    "print('cand nunique: ', cand.album_id.nunique())"
   ]
  },
  {
   "cell_type": "markdown",
   "id": "49208a80",
   "metadata": {},
   "source": [
    "# features merge"
   ]
  },
  {
   "cell_type": "code",
   "execution_count": null,
   "id": "dc16cbd2",
   "metadata": {},
   "outputs": [],
   "source": [
    "# general counts feature merge\n",
    "candidate = pd.merge(cand, general_MP_feature, how='left', on='album_id')\n",
    "# personal_count feature merge\n",
    "# candidate = pd.merge(candidate, personal_MP_feature, how='left', on=['profile_id','album_id'])\n",
    "# # # apriori feature merge\n",
    "# candidate = pd.merge(candidate, apriori_feature, how=\"left\", on=[\"profile_id\",\"album_id\"])"
   ]
  },
  {
   "cell_type": "code",
   "execution_count": null,
   "id": "093290a1",
   "metadata": {},
   "outputs": [],
   "source": [
    "print('cand 데이터 수:',len(candidate))"
   ]
  },
  {
   "cell_type": "code",
   "execution_count": null,
   "id": "75314588",
   "metadata": {},
   "outputs": [],
   "source": [
    "# meta feature merge\n",
    "\n",
    "'''\n",
    "아직 사용 안하고 있음\n",
    "# profile feature add\n",
    "candidate_add_features = pd.merge(candidate,profile_df, how='left', on='profile_id')\n",
    "# meta feature add\n",
    "candidate_add_features = pd.merge(candidate_add_features, meta_df.drop_duplicates('album_id'), how='left', on='album_id')\n",
    "\n",
    "# catetegory feature label encoding\n",
    "\n",
    "columns = ['sex','pr_interest_keyword_cd_1','pr_interest_keyword_cd_2','pr_interest_keyword_cd_3','ch_interest_keyword_cd_1','ch_interest_keyword_cd_2','ch_interest_keyword_cd_3',\\\n",
    "'genre_mid','cast_1','cast_2','cast_3']\n",
    "from sklearn.preprocessing import LabelEncoder\n",
    "for col in columns:\n",
    "    LE = LabelEncoder()\n",
    "    candidate_add_features[col] = LE.fit_transform(candidate_add_features[col])\n",
    "\n",
    "# drop columns\n",
    "\n",
    "candidate_add_features = candidate_add_features.drop(columns=['personal_counts','pr_interest_keyword_cd_1',\\\n",
    "                                                              'pr_interest_keyword_cd_2','pr_interest_keyword_cd_3'\\\n",
    "                                                              ,'ch_interest_keyword_cd_1','ch_interest_keyword_cd_2'\\\n",
    "                                                              ,'ch_interest_keyword_cd_3',\\\n",
    "                                                                'genre_mid','cast_1','cast_2','cast_3'])\n",
    "                                                                \n",
    "'''\n",
    "candidate_add_features = candidate.copy()\n",
    "# als vector merge\n",
    "candidate_add_features = pd.merge(candidate_add_features, item_factors_feature, how=\"left\", on=\"album_id\")\n",
    "candidate_add_features = pd.merge(candidate_add_features, user_factors_feature, how=\"left\", on=\"profile_id\")\n",
    "\n",
    "# interaction day, week merge\n",
    "candidate_add_features = pd.merge(candidate_add_features, interaction_day_week_first, how=\"left\",on=[\"profile_id\",\"album_id\"])\n",
    "\n",
    "# hour feature merge\n",
    "# candidate_add_features = pd.merge(candidate_add_features, hour_feature, how=\"left\",on=[\"profile_id\",\"album_id\"])"
   ]
  },
  {
   "cell_type": "code",
   "execution_count": null,
   "id": "1fa07a59",
   "metadata": {
    "scrolled": true
   },
   "outputs": [],
   "source": [
    "# short_con_freq_feature = short_con_freq_feature[[\"album_id\",\"album_viewcount_freq\"]].drop_duplicates()\n",
    "# candidate_add_features = pd.merge(candidate_add_features,short_con_freq_feature, how=\"left\", on=\"album_id\")\n",
    "candidate_add_features = pd.merge(candidate_add_features,watch_df_feature, how=\"left\",on=[\"profile_id\",\"album_id\"])\n",
    "candidate_add_features = pd.merge(candidate_add_features, meta_df_feature, how=\"left\",on=\"album_id\")\n",
    "candidate_add_features = pd.merge(candidate_add_features, profile_df_feature, how=\"left\",on=\"profile_id\")\n",
    "# candidate_add_features = pd.merge(candidate_add_features,searched_df_feature,how=\"left\",on=[\"profile_id\",\"album_id\"])\n",
    "# ->> duplicates 문제 발생\n",
    "candidate_add_features = pd.merge(candidate_add_features,paid_df_feature,how=\"left\",on=[\"profile_id\",\"album_id\"])\n",
    "\n",
    "# 타입오류 픽처 제거\n",
    "candidate_add_features = candidate_add_features.drop(columns=[\"onair_date\",\"title\", \"genre_small\", \"cast_1\", \"cast_2\", \"cast_3\", \"cast_4\", \"cast_5\", \"cast_6\", \"cast_7\"])"
   ]
  },
  {
   "cell_type": "code",
   "execution_count": null,
   "id": "60adfe67",
   "metadata": {},
   "outputs": [],
   "source": [
    "# 라벨 부여\n",
    "train_df = pd.merge(candidate_add_features, label_df, how='left', on=['profile_id','album_id'])\n",
    "train_df['rating'] = train_df['rating'].fillna(0)\n",
    "\n",
    "# 비복원 추출 defalut\n",
    "# train_df = train_df.sample(frac=1, random_state=42).reset_index(drop=True)"
   ]
  },
  {
   "cell_type": "code",
   "execution_count": null,
   "id": "f28aff14",
   "metadata": {
    "scrolled": true
   },
   "outputs": [],
   "source": [
    "train_df['paid_label'].isnull().count()"
   ]
  },
  {
   "cell_type": "markdown",
   "id": "a5a24f78",
   "metadata": {},
   "source": [
    "# model"
   ]
  },
  {
   "cell_type": "code",
   "execution_count": null,
   "id": "f6c28311",
   "metadata": {},
   "outputs": [],
   "source": [
    "# feature selection 컬럼만 학습\n",
    "# train_df = train_df[['profile_id','album_id','day', 'hour_14', 'personal_counts', 'week', 'total_counts',\n",
    "#        'item_vector66', 'user_vector51', 'user_vector119', 'item_vector76',\n",
    "#        'user_vector59', 'item_vector97', 'user_vector164', 'user_vector196',\n",
    "#        'user_vector178', 'user_vector147', 'user_vector99', 'user_vector167',\n",
    "#        'item_vector165', 'user_vector75', 'user_vector50', 'user_vector136',\n",
    "#        'user_vector108', 'user_vector131', 'user_vector18', 'user_vector49',\n",
    "#        'user_vector62', 'user_vector152', 'user_vector177', 'item_vector119','rating']]"
   ]
  },
  {
   "cell_type": "code",
   "execution_count": null,
   "id": "f908a21f",
   "metadata": {
    "scrolled": false
   },
   "outputs": [],
   "source": [
    "lgbmrank = LGBMRank(train_df, mode='week', model_params={'n_estimators':5})\n",
    "X_train, sample_sumbission = lgbmrank.valid_evaluation()"
   ]
  },
  {
   "cell_type": "code",
   "execution_count": null,
   "id": "4751edef",
   "metadata": {},
   "outputs": [],
   "source": [
    "# cold user MP로 채우기 \n",
    "MP_list = MP_cand.album_id.unique()\n",
    "\n",
    "sample_sumbission_cold = sample_sumbission.copy()\n",
    "sample_sumbission_cold['album_id'] = sample_sumbission_cold['album_id']\\\n",
    "                                        .apply(lambda x: list(dict.fromkeys(np.append(x, MP_list)))[:n])"
   ]
  },
  {
   "cell_type": "code",
   "execution_count": null,
   "id": "ac1cbff9",
   "metadata": {
    "scrolled": true
   },
   "outputs": [],
   "source": [
    "ndcg_calculator(sample_sumbission_cold, test_answer_week, n)"
   ]
  },
  {
   "cell_type": "markdown",
   "id": "531d3cda",
   "metadata": {},
   "source": [
    "# Evaluation"
   ]
  },
  {
   "cell_type": "markdown",
   "id": "6c76681a",
   "metadata": {},
   "source": [
    "### experiment\n",
    "- num_leaves= 20, learning_rate=0.005, n_estimators:5\n",
    "- 어느 cand 중요한 지 판단\n",
    "- popular_articles_cand :(10,10) , personal_MP_candidate:(5), genre_candidate: max(10,10)\n",
    "\n",
    "### week\n",
    "- week ndcg score : 0.05611031122402796\n",
    "- popular_articles_cand week: ndcg 0.028022766659891125 (total unique item: 12)\n",
    "- personal_MP_candidate week: ndcg 0.02896244104871668  (total unique item: 4303)\n",
    "- genre_candidate week:       ndcg 0.01579135161487282  (total unique item: 157)\n",
    "- (popular_articles_cand, personal_MP_candidate) week: ndcg 0.05206722084683086  (total unique item: 4303)\n",
    "- (popular_articles_cand, genre_candidate) week: 0.03809584406788012 (total unique item: 161)\n",
    "- (personal_MP_candidate, genre_candidate) week: 0.041085241338965385 (total unique item: 4338)\n",
    "\n",
    "### month\n",
    "- month ndcg score : 0.08036130090004782\n",
    "- popular_articles_cand month: ndcg 0.05945057771810242 (total unique item: 15)\n",
    "- personal_MP_candidate month: ndcg 0.028477345633295483  (total unique item: 2826)\n",
    "- genre_candidate       month: ndcg 0.017431233023063257  (total unique item: 150)\n",
    "- (popular_articles_cand, personal_MP_candidate) month: ndcg 0.05206722084683086  (total unique item: 2826)\n",
    "- (popular_articles_cand, genre_candidate) month: 0.0680887232688415 (total unique item: 155)\n",
    "- (personal_MP_candidate, genre_candidate) month: 0.041085241338965385 (total unique item: 2872)"
   ]
  },
  {
   "cell_type": "code",
   "execution_count": null,
   "id": "bf4a18d9",
   "metadata": {},
   "outputs": [],
   "source": [
    "def evaluation(\n",
    "            X_train:pd.DataFrame(), \n",
    "            sumbission:pd.DataFrame(), \n",
    "            n:int, \n",
    "            MP_cand:pd.DataFrame()\n",
    "            )->pd.DataFrame():\n",
    "    \n",
    "    MP_list = MP_cand.album_id.unique()\n",
    "    \n",
    "    # each user pred 25 items\n",
    "    lgbm_sub_df = X_train.sort_values(by='pred', ascending=False).groupby('profile_id').head(n)\n",
    "    lgbm_user_items_dict = lgbm_sub_df.groupby('profile_id')['album_id'].unique().to_dict()\n",
    "    sumbission['predicted_list'] = sumbission['profile_id']\\\n",
    "                                            .apply(lambda x: lgbm_user_items_dict.get(x, []))\n",
    "    \n",
    "    # cold start user file MP_list top25\n",
    "    sumbission_cold = sumbission.copy()\n",
    "    sumbission_cold['predicted_list'] = sumbission_cold['predicted_list']\\\n",
    "                                            .apply(lambda x: list(dict.fromkeys(np.append(x, MP_list)))[:n])\n",
    "    \n",
    "    return sumbission, sumbission_cold"
   ]
  },
  {
   "cell_type": "code",
   "execution_count": null,
   "id": "12418cc8",
   "metadata": {},
   "outputs": [],
   "source": [
    "submission = pd.read_csv(path + 'sample_submission.csv')\n",
    "sumbission_pred, sumbission_cold = evaluation(X_train, submission, n, MP_cand)"
   ]
  },
  {
   "cell_type": "code",
   "execution_count": null,
   "id": "80977c2e",
   "metadata": {},
   "outputs": [],
   "source": [
    "set_list = {}\n",
    "for list_i in sumbission_cold.predicted_list:\n",
    "    set_list[str(list_i)] = 0"
   ]
  },
  {
   "cell_type": "code",
   "execution_count": null,
   "id": "0d3e4e6a",
   "metadata": {},
   "outputs": [],
   "source": [
    "print('같은 추천을 받은 유저 수:', 8311 - len(set_list))"
   ]
  },
  {
   "cell_type": "code",
   "execution_count": null,
   "id": "74fb0c13",
   "metadata": {},
   "outputs": [],
   "source": [
    "sumbission_cold"
   ]
  },
  {
   "cell_type": "code",
   "execution_count": null,
   "id": "9dfc7d46",
   "metadata": {},
   "outputs": [],
   "source": [
    "# 제출 조건 충족 확인\n",
    "assert submission.profile_id.nunique() == sumbission_cold.profile_id.nunique()\n",
    "for pred_list in sumbission_cold.predicted_list:\n",
    "    assert len(pred_list) == 25"
   ]
  },
  {
   "cell_type": "code",
   "execution_count": null,
   "id": "cf6ad29f",
   "metadata": {},
   "outputs": [],
   "source": [
    "# sumbission_cold.to_csv('lgbm_candidate_submission_feature_add_ver8.csv', index=False)"
   ]
  },
  {
   "cell_type": "code",
   "execution_count": null,
   "id": "440b0e9c",
   "metadata": {},
   "outputs": [],
   "source": []
  }
 ],
 "metadata": {
  "kernelspec": {
   "display_name": "Python 3 (ipykernel)",
   "language": "python",
   "name": "python3"
  },
  "language_info": {
   "codemirror_mode": {
    "name": "ipython",
    "version": 3
   },
   "file_extension": ".py",
   "mimetype": "text/x-python",
   "name": "python",
   "nbconvert_exporter": "python",
   "pygments_lexer": "ipython3",
   "version": "3.9.0"
  }
 },
 "nbformat": 4,
 "nbformat_minor": 5
}
