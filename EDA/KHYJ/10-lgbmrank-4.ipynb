{
 "cells": [
  {
   "cell_type": "code",
   "execution_count": 1,
   "id": "2d2ea04f",
   "metadata": {},
   "outputs": [
    {
     "name": "stderr",
     "output_type": "stream",
     "text": [
      "../../src/dataload.py:29: FutureWarning: The default dtype for empty Series will be 'object' instead of 'float64' in a future version. Specify a dtype explicitly to silence this warning.\n",
      "  def day_feature(df_train:pd.DataFrame())->pd.Series():\n"
     ]
    }
   ],
   "source": [
    "import sys\n",
    "sys.path.append(\"../../src\")\n",
    "\n",
    "import numpy as np\n",
    "import pandas as pd\n",
    "\n",
    "import lightgbm\n",
    "\n",
    "from utils import ndcg_calculator\n",
    "from LGBM_Rank import LGBMRank\n",
    "from dataload import dataload, day_week_feature_engineering, train_label_split, feature_dataload\n",
    "from feature_engineering import *\n",
    "from candidate import *\n",
    "from tqdm import tqdm"
   ]
  },
  {
   "cell_type": "markdown",
   "id": "2836791b",
   "metadata": {},
   "source": [
    "# dataload\n",
    "- 편의상 df_train_week 변수 통일하여 사용함"
   ]
  },
  {
   "cell_type": "code",
   "execution_count": 2,
   "id": "9350fa85",
   "metadata": {},
   "outputs": [],
   "source": [
    "path='../../data/'\n",
    "\n",
    "test_answer_week, test_answer_month, \\\n",
    "df_train_week, df_train_month, \\\n",
    "sample_sumbission_week, sample_sumbission_month = dataload(path)"
   ]
  },
  {
   "cell_type": "code",
   "execution_count": 3,
   "id": "169ea76a",
   "metadata": {},
   "outputs": [],
   "source": [
    "# # # 전체 데이터 이용시\n",
    "# df_history = pd.read_csv(path+'history_data.csv')\n",
    "\n",
    "# # ## 날짜 전처리\n",
    "# df_history = df_history.assign(log_dt = pd.to_datetime(df_history.log_time//100, format=\"%Y%m%d%H%M\"))\n",
    "# df_history = df_history.assign(log_date = df_history.log_dt.dt.floor(\"D\"))\n",
    "# df_history = df_history.drop(\"log_time\", axis=1)\n",
    "\n",
    "# df_train_week = df_history.copy()\n",
    "\n",
    "# # # month 이용\n",
    "# # # df_train_week = df_train_month.copy()"
   ]
  },
  {
   "cell_type": "markdown",
   "id": "ebada74b",
   "metadata": {},
   "source": [
    "# feature dataload"
   ]
  },
  {
   "cell_type": "code",
   "execution_count": 4,
   "id": "c7b46f9d",
   "metadata": {},
   "outputs": [
    {
     "name": "stderr",
     "output_type": "stream",
     "text": [
      "../../src/dataload.py:87: DtypeWarning: Columns (15) have mixed types. Specify dtype option on import or set low_memory=False.\n",
      "  meta_df = pd.read_csv(path + \"meta_data.csv\")\n"
     ]
    }
   ],
   "source": [
    "# data load\n",
    "watch_df, buy_df, search_df, meta_df, profile_df = feature_dataload(path)"
   ]
  },
  {
   "cell_type": "code",
   "execution_count": 28,
   "id": "fcca8c6e",
   "metadata": {},
   "outputs": [],
   "source": [
    "# feature engineering\n",
    "# df_train_week = history_feature_engineering(df_train_week)\n",
    "\n",
    "# short_con_freq_feature = df_train_week[[\"album_id\",\"short_trailer\",\"continuous_play\",\"album_viewcount_freq\"]]\n",
    "\n",
    "watch_df_feature = watch_feature_engineering(watch_df)\n",
    "watch_df_feature = watch_df_feature.drop_duplicates(subset=[\"profile_id\",\"album_id\"])\n",
    "\n",
    "paid_df_feature = paid_feature_engineering(df_train_week, buy_df)\n",
    "\n",
    "searched_df_feature = searched_feature_engineering(df_train_week, search_df)\n",
    "\n",
    "meta_df_feature = meta_feature_engineering(meta_df)\n",
    "\n",
    "profile_df_feature = profile_feature_engineering(profile_df)\n",
    "profile_df_feature = profile_df_feature[[\"profile_id\",\"sex\",\"age\",\"age_bin\"]]\n",
    "interest_keyword_cd = interest_keyword_cd(df_train_week, profile_df)"
   ]
  },
  {
   "cell_type": "markdown",
   "id": "75b245fb",
   "metadata": {},
   "source": [
    "# day_week feature engineering\n",
    "- to split label, train data"
   ]
  },
  {
   "cell_type": "code",
   "execution_count": 6,
   "id": "ef41abdb",
   "metadata": {},
   "outputs": [
    {
     "name": "stdout",
     "output_type": "stream",
     "text": [
      "log date min: 2022-03-01 00:00:00 log date max: 2022-04-23 00:00:00\n",
      "min day: 0 max day: 53\n",
      "min week: 0 max week: 7\n"
     ]
    }
   ],
   "source": [
    "df_train_week = day_week_feature_engineering(df_train_week)"
   ]
  },
  {
   "cell_type": "markdown",
   "id": "869bf3f8",
   "metadata": {},
   "source": [
    "# label & train split"
   ]
  },
  {
   "cell_type": "code",
   "execution_count": 7,
   "id": "71ef7f79",
   "metadata": {},
   "outputs": [
    {
     "name": "stdout",
     "output_type": "stream",
     "text": [
      "split last week: 7\n"
     ]
    }
   ],
   "source": [
    "# Label, train data split\n",
    "df_train, label_df = train_label_split(df_train_week, cv_date=0)"
   ]
  },
  {
   "cell_type": "code",
   "execution_count": 8,
   "id": "48b73614",
   "metadata": {},
   "outputs": [],
   "source": [
    "n = 25"
   ]
  },
  {
   "cell_type": "code",
   "execution_count": 9,
   "id": "b151ac37",
   "metadata": {
    "scrolled": true
   },
   "outputs": [
    {
     "data": {
      "text/plain": [
       "(945518, 945518)"
      ]
     },
     "execution_count": 9,
     "metadata": {},
     "output_type": "execute_result"
    }
   ],
   "source": [
    "len(df_train), len(df_train_week)"
   ]
  },
  {
   "cell_type": "markdown",
   "id": "1e8fe2e9",
   "metadata": {},
   "source": [
    "# prerpocess"
   ]
  },
  {
   "cell_type": "code",
   "execution_count": 10,
   "id": "45611304",
   "metadata": {},
   "outputs": [],
   "source": [
    "# 총 3개 파일 사용\n",
    "\n",
    "# log dt 기준 duplicates\n",
    "df_train_week = df_train.drop_duplicates(subset=[\"profile_id\",\"album_id\",\"log_dt\"])\n",
    "# ss_id 기준 duplicates\n",
    "personal_train = df_train.drop_duplicates(subset=['profile_id','album_id','ss_id'])\n",
    "# album_id, profile_id 기준으로 duplicates\n",
    "df_train = df_train.drop_duplicates(subset=['profile_id','album_id'])\n",
    "\n",
    "# 전체 유저 한정\n",
    "customers = df_train.profile_id.unique()\n",
    "# 라벨 한정\n",
    "# customers = label_df.profile_id.unique()"
   ]
  },
  {
   "cell_type": "markdown",
   "id": "0c6b093a",
   "metadata": {},
   "source": [
    "# fav_cast feature"
   ]
  },
  {
   "cell_type": "code",
   "execution_count": 11,
   "id": "8af4f4c3",
   "metadata": {},
   "outputs": [],
   "source": [
    "favorite_cast_feature = fav_cast(df_train, meta_df_feature)"
   ]
  },
  {
   "cell_type": "markdown",
   "id": "d6175274",
   "metadata": {},
   "source": [
    "# fav_keyword_feature"
   ]
  },
  {
   "cell_type": "code",
   "execution_count": 12,
   "id": "00f0c943",
   "metadata": {},
   "outputs": [],
   "source": [
    "meta_plus_df = pd.read_csv(path+\"meta_data_plus.csv\")\n",
    "fav_keyword_feature = fav_keyword(df_train, meta_plus_df)"
   ]
  },
  {
   "cell_type": "markdown",
   "id": "b4b3d670",
   "metadata": {},
   "source": [
    "# day week features"
   ]
  },
  {
   "cell_type": "code",
   "execution_count": 13,
   "id": "7bea3d92",
   "metadata": {},
   "outputs": [
    {
     "name": "stderr",
     "output_type": "stream",
     "text": [
      "../../src/feature_engineering.py:173: SettingWithCopyWarning: \n",
      "A value is trying to be set on a copy of a slice from a DataFrame.\n",
      "Try using .loc[row_indexer,col_indexer] = value instead\n",
      "\n",
      "See the caveats in the documentation: https://pandas.pydata.org/pandas-docs/stable/user_guide/indexing.html#returning-a-view-versus-a-copy\n",
      "  hour_feature[\"hour\"] = hour_feature[\"log_dt\"].apply(lambda x: x.hour)\n",
      "../../src/feature_engineering.py:178: FutureWarning: The default value of numeric_only in DataFrameGroupBy.sum is deprecated. In a future version, numeric_only will default to False. Either specify numeric_only or select only columns which should be valid for the function.\n",
      "  hour_feature = hour_feature.groupby([\"profile_id\",\"album_id\"]).sum().reset_index()\n"
     ]
    }
   ],
   "source": [
    "interaction_day_week_first = day_week_feature(df_train_week)\n",
    "hour_feature = hour_feature(df_train_week)"
   ]
  },
  {
   "cell_type": "markdown",
   "id": "0cd7721e",
   "metadata": {},
   "source": [
    "# paid_count_feature"
   ]
  },
  {
   "cell_type": "code",
   "execution_count": 14,
   "id": "92a23dfa",
   "metadata": {},
   "outputs": [],
   "source": [
    "paid_count_feature = paid_count_feature(df_train_week)"
   ]
  },
  {
   "cell_type": "markdown",
   "id": "c418ca3a",
   "metadata": {},
   "source": [
    "# candidate generation"
   ]
  },
  {
   "cell_type": "markdown",
   "id": "4093fc75",
   "metadata": {},
   "source": [
    "# MP"
   ]
  },
  {
   "cell_type": "code",
   "execution_count": 15,
   "id": "17ae8fb7",
   "metadata": {},
   "outputs": [],
   "source": [
    "MP_cand, MP_feature = most_popular(df_train)"
   ]
  },
  {
   "cell_type": "markdown",
   "id": "4b8c818f",
   "metadata": {},
   "source": [
    "# general MP\n",
    "- 마지막 1주, 2주의 MP를 각 유저마다 넣는다."
   ]
  },
  {
   "cell_type": "code",
   "execution_count": 16,
   "id": "d08b5a49",
   "metadata": {},
   "outputs": [
    {
     "name": "stdout",
     "output_type": "stream",
     "text": [
      "CPU times: user 79.7 ms, sys: 4.11 ms, total: 83.8 ms\n",
      "Wall time: 80.2 ms\n"
     ]
    }
   ],
   "source": [
    "%%time\n",
    "general_MP_cand, general_MP_feature = general_most_popular(df_train)"
   ]
  },
  {
   "cell_type": "markdown",
   "id": "ed0dbe09",
   "metadata": {},
   "source": [
    "# personal_MP"
   ]
  },
  {
   "cell_type": "code",
   "execution_count": 17,
   "id": "e05e7118",
   "metadata": {
    "scrolled": true
   },
   "outputs": [
    {
     "name": "stderr",
     "output_type": "stream",
     "text": [
      "100%|██████████████████████████████████████| 8057/8057 [00:12<00:00, 648.13it/s]\n"
     ]
    },
    {
     "name": "stdout",
     "output_type": "stream",
     "text": [
      "CPU times: user 12.9 s, sys: 315 ms, total: 13.2 s\n",
      "Wall time: 13.1 s\n"
     ]
    }
   ],
   "source": [
    "%%time\n",
    "personal_MP_candidate, personal_MP_feature = personal_most_popular(personal_train, N=50)"
   ]
  },
  {
   "cell_type": "markdown",
   "id": "db72069f",
   "metadata": {},
   "source": [
    "# MP_user_genre"
   ]
  },
  {
   "cell_type": "code",
   "execution_count": 18,
   "id": "fc8110b7",
   "metadata": {},
   "outputs": [],
   "source": [
    "# 이전에는 meta 중복 때문에 장르 count가 잘못 뻥튀기 되어서 잘못 MP가 매겨짐\n",
    "# feature merge 시 genre_mid 와 profile_id 기준으로 해야함\n",
    "genre_candidate, user_genre_feature = user_genre_most_popular(personal_train, meta_df)"
   ]
  },
  {
   "cell_type": "markdown",
   "id": "d31cb6b6",
   "metadata": {},
   "source": [
    "# ALS MF candidate"
   ]
  },
  {
   "cell_type": "code",
   "execution_count": 26,
   "id": "59cfc4f0",
   "metadata": {},
   "outputs": [
    {
     "ename": "FileNotFoundError",
     "evalue": "[Errno 2] No such file or directory: '../../data/profile_factor_als.parquet'",
     "output_type": "error",
     "traceback": [
      "\u001b[0;31m---------------------------------------------------------------------------\u001b[0m",
      "\u001b[0;31mFileNotFoundError\u001b[0m                         Traceback (most recent call last)",
      "File \u001b[0;32m<timed exec>:4\u001b[0m\n",
      "File \u001b[0;32m/opt/anaconda3/envs/HYJ/lib/python3.9/site-packages/pandas/io/parquet.py:503\u001b[0m, in \u001b[0;36mread_parquet\u001b[0;34m(path, engine, columns, storage_options, use_nullable_dtypes, **kwargs)\u001b[0m\n\u001b[1;32m    456\u001b[0m \u001b[38;5;124;03m\"\"\"\u001b[39;00m\n\u001b[1;32m    457\u001b[0m \u001b[38;5;124;03mLoad a parquet object from the file path, returning a DataFrame.\u001b[39;00m\n\u001b[1;32m    458\u001b[0m \n\u001b[0;32m   (...)\u001b[0m\n\u001b[1;32m    499\u001b[0m \u001b[38;5;124;03mDataFrame\u001b[39;00m\n\u001b[1;32m    500\u001b[0m \u001b[38;5;124;03m\"\"\"\u001b[39;00m\n\u001b[1;32m    501\u001b[0m impl \u001b[38;5;241m=\u001b[39m get_engine(engine)\n\u001b[0;32m--> 503\u001b[0m \u001b[38;5;28;01mreturn\u001b[39;00m \u001b[43mimpl\u001b[49m\u001b[38;5;241;43m.\u001b[39;49m\u001b[43mread\u001b[49m\u001b[43m(\u001b[49m\n\u001b[1;32m    504\u001b[0m \u001b[43m    \u001b[49m\u001b[43mpath\u001b[49m\u001b[43m,\u001b[49m\n\u001b[1;32m    505\u001b[0m \u001b[43m    \u001b[49m\u001b[43mcolumns\u001b[49m\u001b[38;5;241;43m=\u001b[39;49m\u001b[43mcolumns\u001b[49m\u001b[43m,\u001b[49m\n\u001b[1;32m    506\u001b[0m \u001b[43m    \u001b[49m\u001b[43mstorage_options\u001b[49m\u001b[38;5;241;43m=\u001b[39;49m\u001b[43mstorage_options\u001b[49m\u001b[43m,\u001b[49m\n\u001b[1;32m    507\u001b[0m \u001b[43m    \u001b[49m\u001b[43muse_nullable_dtypes\u001b[49m\u001b[38;5;241;43m=\u001b[39;49m\u001b[43muse_nullable_dtypes\u001b[49m\u001b[43m,\u001b[49m\n\u001b[1;32m    508\u001b[0m \u001b[43m    \u001b[49m\u001b[38;5;241;43m*\u001b[39;49m\u001b[38;5;241;43m*\u001b[39;49m\u001b[43mkwargs\u001b[49m\u001b[43m,\u001b[49m\n\u001b[1;32m    509\u001b[0m \u001b[43m\u001b[49m\u001b[43m)\u001b[49m\n",
      "File \u001b[0;32m/opt/anaconda3/envs/HYJ/lib/python3.9/site-packages/pandas/io/parquet.py:244\u001b[0m, in \u001b[0;36mPyArrowImpl.read\u001b[0;34m(self, path, columns, use_nullable_dtypes, storage_options, **kwargs)\u001b[0m\n\u001b[1;32m    241\u001b[0m \u001b[38;5;28;01mif\u001b[39;00m manager \u001b[38;5;241m==\u001b[39m \u001b[38;5;124m\"\u001b[39m\u001b[38;5;124marray\u001b[39m\u001b[38;5;124m\"\u001b[39m:\n\u001b[1;32m    242\u001b[0m     to_pandas_kwargs[\u001b[38;5;124m\"\u001b[39m\u001b[38;5;124msplit_blocks\u001b[39m\u001b[38;5;124m\"\u001b[39m] \u001b[38;5;241m=\u001b[39m \u001b[38;5;28;01mTrue\u001b[39;00m  \u001b[38;5;66;03m# type: ignore[assignment]\u001b[39;00m\n\u001b[0;32m--> 244\u001b[0m path_or_handle, handles, kwargs[\u001b[38;5;124m\"\u001b[39m\u001b[38;5;124mfilesystem\u001b[39m\u001b[38;5;124m\"\u001b[39m] \u001b[38;5;241m=\u001b[39m \u001b[43m_get_path_or_handle\u001b[49m\u001b[43m(\u001b[49m\n\u001b[1;32m    245\u001b[0m \u001b[43m    \u001b[49m\u001b[43mpath\u001b[49m\u001b[43m,\u001b[49m\n\u001b[1;32m    246\u001b[0m \u001b[43m    \u001b[49m\u001b[43mkwargs\u001b[49m\u001b[38;5;241;43m.\u001b[39;49m\u001b[43mpop\u001b[49m\u001b[43m(\u001b[49m\u001b[38;5;124;43m\"\u001b[39;49m\u001b[38;5;124;43mfilesystem\u001b[39;49m\u001b[38;5;124;43m\"\u001b[39;49m\u001b[43m,\u001b[49m\u001b[43m \u001b[49m\u001b[38;5;28;43;01mNone\u001b[39;49;00m\u001b[43m)\u001b[49m\u001b[43m,\u001b[49m\n\u001b[1;32m    247\u001b[0m \u001b[43m    \u001b[49m\u001b[43mstorage_options\u001b[49m\u001b[38;5;241;43m=\u001b[39;49m\u001b[43mstorage_options\u001b[49m\u001b[43m,\u001b[49m\n\u001b[1;32m    248\u001b[0m \u001b[43m    \u001b[49m\u001b[43mmode\u001b[49m\u001b[38;5;241;43m=\u001b[39;49m\u001b[38;5;124;43m\"\u001b[39;49m\u001b[38;5;124;43mrb\u001b[39;49m\u001b[38;5;124;43m\"\u001b[39;49m\u001b[43m,\u001b[49m\n\u001b[1;32m    249\u001b[0m \u001b[43m\u001b[49m\u001b[43m)\u001b[49m\n\u001b[1;32m    250\u001b[0m \u001b[38;5;28;01mtry\u001b[39;00m:\n\u001b[1;32m    251\u001b[0m     result \u001b[38;5;241m=\u001b[39m \u001b[38;5;28mself\u001b[39m\u001b[38;5;241m.\u001b[39mapi\u001b[38;5;241m.\u001b[39mparquet\u001b[38;5;241m.\u001b[39mread_table(\n\u001b[1;32m    252\u001b[0m         path_or_handle, columns\u001b[38;5;241m=\u001b[39mcolumns, \u001b[38;5;241m*\u001b[39m\u001b[38;5;241m*\u001b[39mkwargs\n\u001b[1;32m    253\u001b[0m     )\u001b[38;5;241m.\u001b[39mto_pandas(\u001b[38;5;241m*\u001b[39m\u001b[38;5;241m*\u001b[39mto_pandas_kwargs)\n",
      "File \u001b[0;32m/opt/anaconda3/envs/HYJ/lib/python3.9/site-packages/pandas/io/parquet.py:102\u001b[0m, in \u001b[0;36m_get_path_or_handle\u001b[0;34m(path, fs, storage_options, mode, is_dir)\u001b[0m\n\u001b[1;32m     92\u001b[0m handles \u001b[38;5;241m=\u001b[39m \u001b[38;5;28;01mNone\u001b[39;00m\n\u001b[1;32m     93\u001b[0m \u001b[38;5;28;01mif\u001b[39;00m (\n\u001b[1;32m     94\u001b[0m     \u001b[38;5;129;01mnot\u001b[39;00m fs\n\u001b[1;32m     95\u001b[0m     \u001b[38;5;129;01mand\u001b[39;00m \u001b[38;5;129;01mnot\u001b[39;00m is_dir\n\u001b[0;32m   (...)\u001b[0m\n\u001b[1;32m    100\u001b[0m     \u001b[38;5;66;03m# fsspec resources can also point to directories\u001b[39;00m\n\u001b[1;32m    101\u001b[0m     \u001b[38;5;66;03m# this branch is used for example when reading from non-fsspec URLs\u001b[39;00m\n\u001b[0;32m--> 102\u001b[0m     handles \u001b[38;5;241m=\u001b[39m \u001b[43mget_handle\u001b[49m\u001b[43m(\u001b[49m\n\u001b[1;32m    103\u001b[0m \u001b[43m        \u001b[49m\u001b[43mpath_or_handle\u001b[49m\u001b[43m,\u001b[49m\u001b[43m \u001b[49m\u001b[43mmode\u001b[49m\u001b[43m,\u001b[49m\u001b[43m \u001b[49m\u001b[43mis_text\u001b[49m\u001b[38;5;241;43m=\u001b[39;49m\u001b[38;5;28;43;01mFalse\u001b[39;49;00m\u001b[43m,\u001b[49m\u001b[43m \u001b[49m\u001b[43mstorage_options\u001b[49m\u001b[38;5;241;43m=\u001b[39;49m\u001b[43mstorage_options\u001b[49m\n\u001b[1;32m    104\u001b[0m \u001b[43m    \u001b[49m\u001b[43m)\u001b[49m\n\u001b[1;32m    105\u001b[0m     fs \u001b[38;5;241m=\u001b[39m \u001b[38;5;28;01mNone\u001b[39;00m\n\u001b[1;32m    106\u001b[0m     path_or_handle \u001b[38;5;241m=\u001b[39m handles\u001b[38;5;241m.\u001b[39mhandle\n",
      "File \u001b[0;32m/opt/anaconda3/envs/HYJ/lib/python3.9/site-packages/pandas/io/common.py:865\u001b[0m, in \u001b[0;36mget_handle\u001b[0;34m(path_or_buf, mode, encoding, compression, memory_map, is_text, errors, storage_options)\u001b[0m\n\u001b[1;32m    856\u001b[0m         handle \u001b[38;5;241m=\u001b[39m \u001b[38;5;28mopen\u001b[39m(\n\u001b[1;32m    857\u001b[0m             handle,\n\u001b[1;32m    858\u001b[0m             ioargs\u001b[38;5;241m.\u001b[39mmode,\n\u001b[0;32m   (...)\u001b[0m\n\u001b[1;32m    861\u001b[0m             newline\u001b[38;5;241m=\u001b[39m\u001b[38;5;124m\"\u001b[39m\u001b[38;5;124m\"\u001b[39m,\n\u001b[1;32m    862\u001b[0m         )\n\u001b[1;32m    863\u001b[0m     \u001b[38;5;28;01melse\u001b[39;00m:\n\u001b[1;32m    864\u001b[0m         \u001b[38;5;66;03m# Binary mode\u001b[39;00m\n\u001b[0;32m--> 865\u001b[0m         handle \u001b[38;5;241m=\u001b[39m \u001b[38;5;28;43mopen\u001b[39;49m\u001b[43m(\u001b[49m\u001b[43mhandle\u001b[49m\u001b[43m,\u001b[49m\u001b[43m \u001b[49m\u001b[43mioargs\u001b[49m\u001b[38;5;241;43m.\u001b[39;49m\u001b[43mmode\u001b[49m\u001b[43m)\u001b[49m\n\u001b[1;32m    866\u001b[0m     handles\u001b[38;5;241m.\u001b[39mappend(handle)\n\u001b[1;32m    868\u001b[0m \u001b[38;5;66;03m# Convert BytesIO or file objects passed with an encoding\u001b[39;00m\n",
      "\u001b[0;31mFileNotFoundError\u001b[0m: [Errno 2] No such file or directory: '../../data/profile_factor_als.parquet'"
     ]
    }
   ],
   "source": [
    "%%time\n",
    "from ALS_MF import MF\n",
    "model = MF(df_train_week, clf={'factors': 200, 'regularization': 0.005, 'iterations': 3, 'n': 200})\n",
    "\n",
    "user_factors_feature = pd.read_parquet(path+\"profile_factor_als.parquet\")\n",
    "item_factors_feature = pd.read_parquet(path+\"album_factor_als.parquet\")\n",
    "\n",
    "als_candidate, _, _, als_model = model.mf_train()"
   ]
  },
  {
   "cell_type": "markdown",
   "id": "a5b43fe5",
   "metadata": {},
   "source": [
    "# apriori candidaate"
   ]
  },
  {
   "cell_type": "code",
   "execution_count": 20,
   "id": "493e4a65",
   "metadata": {},
   "outputs": [],
   "source": [
    "# %%time\n",
    "# from apriori import apriori_train, apriori_candidate\n",
    "# rules_confidence_item_week = apriori_train(df_train, 0.1, 0.8)\n",
    "# apriori_candidate, apriori_feature = apriori_candidate(df_train_week, rules_confidence_item_week)"
   ]
  },
  {
   "cell_type": "markdown",
   "id": "890a257c",
   "metadata": {},
   "source": [
    "# NCF candidate"
   ]
  },
  {
   "cell_type": "code",
   "execution_count": 21,
   "id": "11789aa4",
   "metadata": {},
   "outputs": [],
   "source": [
    "ncf_candidate_df = pd.read_csv(path + \"2_neg100_submission.csv\")"
   ]
  },
  {
   "cell_type": "code",
   "execution_count": 22,
   "id": "e13d750e",
   "metadata": {},
   "outputs": [],
   "source": [
    "import ast\n",
    "\n",
    "ncf_candidate_list = []\n",
    "for idx, row in ncf_candidate_df.iterrows():\n",
    "    ncf_df = pd.DataFrame()\n",
    "    ncf_df[\"album_id\"] = ast.literal_eval(row.predicted_list)\n",
    "    ncf_df[\"profile_id\"] = row.profile_id\n",
    "    ncf_candidate_list.append(ncf_df)\n",
    "ncf_candidate = pd.concat(ncf_candidate_list)\n",
    "ncf_candidate = ncf_candidate[ncf_candidate[\"profile_id\"].isin(set(df_train.profile_id))]\n",
    "\n",
    "# 아웃라이어 삭제\n",
    "album_max_dict = df_train.groupby(\"profile_id\")[\"album_id\"].max().to_dict()\n",
    "\n",
    "last_train_df_list = []\n",
    "for user_id in ncf_candidate.profile_id.unique():\n",
    "    last_train_df_list.append(ncf_candidate[(ncf_candidate[\"profile_id\"]==user_id)&(ncf_candidate[\"album_id\"]<=album_max_dict[user_id])])\n",
    "ncf_candidate = pd.concat(last_train_df_list)"
   ]
  },
  {
   "cell_type": "markdown",
   "id": "64d30f3f",
   "metadata": {},
   "source": [
    "# series candidate"
   ]
  },
  {
   "cell_type": "code",
   "execution_count": 23,
   "id": "0f6e3acc",
   "metadata": {},
   "outputs": [
    {
     "name": "stdout",
     "output_type": "stream",
     "text": [
      "Train shape: (156060, 13)\n"
     ]
    },
    {
     "name": "stderr",
     "output_type": "stream",
     "text": [
      "1897it [00:07, 255.79it/s]\n",
      "100%|██████████████████████████████████████| 8057/8057 [00:09<00:00, 806.11it/s]\n"
     ]
    },
    {
     "name": "stdout",
     "output_type": "stream",
     "text": [
      "6867\n"
     ]
    }
   ],
   "source": [
    "series_candidate = series_candidate(df_train_week, threshold=30)"
   ]
  },
  {
   "cell_type": "markdown",
   "id": "1ecc284c",
   "metadata": {},
   "source": [
    "# age candidate"
   ]
  },
  {
   "cell_type": "code",
   "execution_count": 24,
   "id": "fc678386",
   "metadata": {
    "scrolled": true
   },
   "outputs": [],
   "source": [
    "# age_MP_candidate = age_MP(df_train_week, profile_df_feature)"
   ]
  },
  {
   "cell_type": "markdown",
   "id": "99a76203",
   "metadata": {},
   "source": [
    "# candidate merge"
   ]
  },
  {
   "cell_type": "code",
   "execution_count": 25,
   "id": "8db68f87",
   "metadata": {},
   "outputs": [
    {
     "ename": "NameError",
     "evalue": "name 'als_candidate' is not defined",
     "output_type": "error",
     "traceback": [
      "\u001b[0;31m---------------------------------------------------------------------------\u001b[0m",
      "\u001b[0;31mNameError\u001b[0m                                 Traceback (most recent call last)",
      "Cell \u001b[0;32mIn [25], line 5\u001b[0m\n\u001b[1;32m      1\u001b[0m \u001b[38;5;66;03m# 평균 candidate 수\u001b[39;00m\n\u001b[1;32m      2\u001b[0m MP_cand\u001b[38;5;241m.\u001b[39mgroupby(\u001b[38;5;124m\"\u001b[39m\u001b[38;5;124mprofile_id\u001b[39m\u001b[38;5;124m\"\u001b[39m)\u001b[38;5;241m.\u001b[39mcount()\u001b[38;5;241m.\u001b[39mmean()[\u001b[38;5;241m0\u001b[39m],\\\n\u001b[1;32m      3\u001b[0m personal_MP_candidate\u001b[38;5;241m.\u001b[39mgroupby(\u001b[38;5;124m\"\u001b[39m\u001b[38;5;124mprofile_id\u001b[39m\u001b[38;5;124m\"\u001b[39m)\u001b[38;5;241m.\u001b[39mcount()\u001b[38;5;241m.\u001b[39mmean()[\u001b[38;5;241m0\u001b[39m],\\\n\u001b[1;32m      4\u001b[0m genre_candidate\u001b[38;5;241m.\u001b[39mgroupby(\u001b[38;5;124m\"\u001b[39m\u001b[38;5;124mprofile_id\u001b[39m\u001b[38;5;124m\"\u001b[39m)\u001b[38;5;241m.\u001b[39mcount()\u001b[38;5;241m.\u001b[39mmean()[\u001b[38;5;241m0\u001b[39m],\\\n\u001b[0;32m----> 5\u001b[0m \u001b[43mals_candidate\u001b[49m\u001b[38;5;241m.\u001b[39mgroupby(\u001b[38;5;124m\"\u001b[39m\u001b[38;5;124mprofile_id\u001b[39m\u001b[38;5;124m\"\u001b[39m)\u001b[38;5;241m.\u001b[39mcount()\u001b[38;5;241m.\u001b[39mmean()[\u001b[38;5;241m0\u001b[39m],\\\n\u001b[1;32m      6\u001b[0m ncf_candidate\u001b[38;5;241m.\u001b[39mgroupby(\u001b[38;5;124m\"\u001b[39m\u001b[38;5;124mprofile_id\u001b[39m\u001b[38;5;124m\"\u001b[39m)\u001b[38;5;241m.\u001b[39mcount()\u001b[38;5;241m.\u001b[39mmean()[\u001b[38;5;241m0\u001b[39m],\\\n\u001b[1;32m      7\u001b[0m series_candidate\u001b[38;5;241m.\u001b[39mgroupby(\u001b[38;5;124m\"\u001b[39m\u001b[38;5;124mprofile_id\u001b[39m\u001b[38;5;124m\"\u001b[39m)\u001b[38;5;241m.\u001b[39mcount()\u001b[38;5;241m.\u001b[39mmean()[\u001b[38;5;241m0\u001b[39m]\n",
      "\u001b[0;31mNameError\u001b[0m: name 'als_candidate' is not defined"
     ]
    }
   ],
   "source": [
    "# 평균 candidate 수\n",
    "MP_cand.groupby(\"profile_id\").count().mean()[0],\\\n",
    "personal_MP_candidate.groupby(\"profile_id\").count().mean()[0],\\\n",
    "genre_candidate.groupby(\"profile_id\").count().mean()[0],\\\n",
    "als_candidate.groupby(\"profile_id\").count().mean()[0],\\\n",
    "ncf_candidate.groupby(\"profile_id\").count().mean()[0],\\\n",
    "series_candidate.groupby(\"profile_id\").count().mean()[0]"
   ]
  },
  {
   "cell_type": "code",
   "execution_count": null,
   "id": "fc94154c",
   "metadata": {},
   "outputs": [],
   "source": [
    "candidate_0 = MP_cand\n",
    "candidate_1 = general_MP_cand[['profile_id','album_id']]\n",
    "candidate_2 = personal_MP_candidate[['profile_id','album_id']]\n",
    "candidate_3 = genre_candidate[['profile_id','album_id']]\n",
    "candidate_4 = als_candidate.copy()\n",
    "# candidate_5 = apriori_candidate.copy()\n",
    "candidate_6 = ncf_candidate.copy()\n",
    "candidate_7 = series_candidate[[\"profile_id\",\"album_id\"]]\n",
    "# candidate_8 = age_MP_candidate.copy()\n",
    "\n",
    "candidate = [candidate_0, candidate_1,candidate_2, candidate_3, candidate_4,candidate_6, candidate_7]\n",
    "\n",
    "cand = pd.concat(candidate)\n",
    "\n",
    "cand.drop_duplicates(subset=['profile_id','album_id'],inplace=True)\n",
    "\n",
    "print('cand 데이터 수:',len(cand))\n",
    "print('cand nunique: ', cand.album_id.nunique())"
   ]
  },
  {
   "cell_type": "markdown",
   "id": "49208a80",
   "metadata": {},
   "source": [
    "# features merge"
   ]
  },
  {
   "cell_type": "code",
   "execution_count": null,
   "id": "dc16cbd2",
   "metadata": {},
   "outputs": [],
   "source": [
    "candidate = pd.merge(cand, MP_feature, how='left', on='album_id')\n",
    "# general counts feature merge\n",
    "candidate = pd.merge(candidate, general_MP_feature, how='left', on='album_id')\n",
    "# personal_count feature merge\n",
    "candidate = pd.merge(candidate, personal_MP_feature, how='left', on=['profile_id','album_id'])\n",
    "candidate[\"personal_counts\"] = candidate[\"personal_counts\"].fillna(1)\n",
    "# meta feature\n",
    "candidate = pd.merge(candidate, meta_df_feature, how=\"left\",on=\"album_id\")\n",
    "# genre feature merge(genre_cnt, user_genre_total_cnt, user_genre_total_percent)\n",
    "candidate = pd.merge(candidate, user_genre_feature, how='left', on=['profile_id','genre_mid'])\n",
    "# apriori feature merge\n",
    "# candidate = pd.merge(candidate, apriori_feature, how=\"left\", on=[\"profile_id\",\"album_id\"])"
   ]
  },
  {
   "cell_type": "code",
   "execution_count": null,
   "id": "093290a1",
   "metadata": {},
   "outputs": [],
   "source": [
    "print('cand 피처 수:',len(candidate))"
   ]
  },
  {
   "cell_type": "code",
   "execution_count": null,
   "id": "75314588",
   "metadata": {},
   "outputs": [],
   "source": [
    "# meta feature merge\n",
    "\n",
    "'''\n",
    "아직 사용 안하고 있음\n",
    "# profile feature add\n",
    "candidate_add_features = pd.merge(candidate,profile_df, how='left', on='profile_id')\n",
    "# meta feature add\n",
    "candidate_add_features = pd.merge(candidate_add_features, meta_df.drop_duplicates('album_id'), how='left', on='album_id')\n",
    "\n",
    "# catetegory feature label encoding\n",
    "\n",
    "columns = ['sex','pr_interest_keyword_cd_1','pr_interest_keyword_cd_2','pr_interest_keyword_cd_3','ch_interest_keyword_cd_1','ch_interest_keyword_cd_2','ch_interest_keyword_cd_3',\\\n",
    "'genre_mid','cast_1','cast_2','cast_3']\n",
    "from sklearn.preprocessing import LabelEncoder\n",
    "for col in columns:\n",
    "    LE = LabelEncoder()\n",
    "    candidate_add_features[col] = LE.fit_transform(candidate_add_features[col])\n",
    "\n",
    "# drop columns\n",
    "\n",
    "candidate_add_features = candidate_add_features.drop(columns=['personal_counts','pr_interest_keyword_cd_1',\\\n",
    "                                                              'pr_interest_keyword_cd_2','pr_interest_keyword_cd_3'\\\n",
    "                                                              ,'ch_interest_keyword_cd_1','ch_interest_keyword_cd_2'\\\n",
    "                                                              ,'ch_interest_keyword_cd_3',\\\n",
    "                                                                'genre_mid','cast_1','cast_2','cast_3'])\n",
    "                                                                \n",
    "'''\n",
    "candidate_add_features = candidate.copy()\n",
    "\n",
    "# als vector merge\n",
    "candidate_add_features = pd.merge(candidate_add_features, item_factors_feature, how=\"left\", on=\"album_id\")\n",
    "candidate_add_features = pd.merge(candidate_add_features, user_factors_feature, how=\"left\", on=\"profile_id\")\n",
    "\n",
    "# interaction day, week merge\n",
    "candidate_add_features = pd.merge(candidate_add_features, interaction_day_week_first, how=\"left\",on=[\"profile_id\",\"album_id\"])"
   ]
  },
  {
   "cell_type": "code",
   "execution_count": null,
   "id": "1fa07a59",
   "metadata": {
    "scrolled": true
   },
   "outputs": [],
   "source": [
    "candidate_add_features = pd.merge(candidate_add_features, watch_df_feature, how=\"left\",on=[\"profile_id\",\"album_id\"])\n",
    "candidate_add_features = pd.merge(candidate_add_features, profile_df_feature, how=\"left\",on=\"profile_id\")\n",
    "candidate_add_features = pd.merge(candidate_add_features, searched_df_feature,how=\"left\",on=[\"profile_id\",\"album_id\"])\n",
    "candidate_add_features = pd.merge(candidate_add_features, paid_df_feature,how=\"left\",on=[\"profile_id\",\"album_id\"])\n",
    "candidate_add_features[\"paid_label\"] = candidate_add_features[\"paid_label\"].fillna(0)\n",
    "\n",
    "candidate_add_features = pd.merge(candidate_add_features, favorite_cast_feature, how=\"left\",on=\"profile_id\")\n",
    "candidate_add_features = pd.merge(candidate_add_features, fav_keyword_feature, how=\"left\",on=\"profile_id\")\n",
    "candidate_add_features = pd.merge(candidate_add_features, paid_count_feature, how=\"left\",on=\"profile_id\")\n",
    "candidate_add_features = pd.merge(candidate_add_features, interest_keyword_cd, how=\"left\",on=\"profile_id\")\n",
    "\n",
    "# 타입오류 픽처 제거\n",
    "# candidate_add_features = candidate_add_features.drop(columns=[\"onair_date\",\"title\", \"genre_small\", \"cast_1\", \"cast_2\", \"cast_3\", \"cast_4\", \"cast_5\", \"cast_6\", \"cast_7\"])"
   ]
  },
  {
   "cell_type": "code",
   "execution_count": null,
   "id": "c7ccb88b",
   "metadata": {
    "scrolled": true
   },
   "outputs": [],
   "source": [
    "len(candidate_add_features)"
   ]
  },
  {
   "cell_type": "code",
   "execution_count": null,
   "id": "b6d89ed3",
   "metadata": {},
   "outputs": [],
   "source": [
    "# df_user_replay_bool_ver1 = pd.read_csv(path+\"df_user_replay_bool.csv\")\n",
    "# df_user_replay_bool_ver2 = pd.read_csv(path+\"df_user_replay_bool2.csv\")\n",
    "# maping_df = df_train[[\"profile_id\"]]\n",
    "# maping_df[\"replay\"] = True\n",
    "# maping_df = maping_df[~(maping_df[\"profile_id\"].isin(df_user_replay_bool_ver2.profile_id))]\n",
    "# df_user_replay_bool = pd.concat([df_user_replay_bool_ver1,maping_df]).drop_duplicates()\n",
    "# replay_users = df_user_replay_bool[df_user_replay_bool[\"replay\"]==True].profile_id.unique()"
   ]
  },
  {
   "cell_type": "code",
   "execution_count": null,
   "id": "a1faf55a",
   "metadata": {},
   "outputs": [],
   "source": [
    "# repurchase_df = df_train[[\"profile_id\",\"album_id\"]].drop_duplicates()\n",
    "# repurchase_cand = pd.merge(repurchase_df, candidate_add_features, how=\"left\", on=[\"profile_id\",\"album_id\"])"
   ]
  },
  {
   "cell_type": "code",
   "execution_count": null,
   "id": "9857c4eb",
   "metadata": {},
   "outputs": [],
   "source": [
    "repurchase_dict = df_train[[\"profile_id\",\"album_id\"]].groupby(\"profile_id\")[\"album_id\"].unique().to_dict()\n",
    "\n",
    "repurchase_df_list = []\n",
    "for user_id in tqdm(df_train.profile_id.unique()):\n",
    "    repurchase_df_list.append(candidate_add_features[(candidate_add_features[\"profile_id\"]==user_id)&(candidate_add_features[\"album_id\"].isin(repurchase_dict[user_id]))])\n",
    "repurchase_df = pd.concat(repurchase_df_list)"
   ]
  },
  {
   "cell_type": "code",
   "execution_count": null,
   "id": "f768b76b",
   "metadata": {},
   "outputs": [],
   "source": [
    "repurchase_dict = df_train[[\"profile_id\",\"album_id\"]].groupby(\"profile_id\")[\"album_id\"].unique().to_dict()\n",
    "\n",
    "non_repurchase_df_list = []\n",
    "for user_id in tqdm(df_train.profile_id.unique()):\n",
    "    non_repurchase_df_list.append(candidate_add_features[(candidate_add_features[\"profile_id\"]==user_id)&~(candidate_add_features[\"album_id\"].isin(repurchase_dict[user_id]))])\n",
    "non_repurchase_df = pd.concat(non_repurchase_df_list)"
   ]
  },
  {
   "cell_type": "code",
   "execution_count": null,
   "id": "15657a47",
   "metadata": {},
   "outputs": [],
   "source": [
    "len(repurchase_df), len(non_repurchase_df)"
   ]
  },
  {
   "cell_type": "code",
   "execution_count": null,
   "id": "60adfe67",
   "metadata": {},
   "outputs": [],
   "source": [
    "# 라벨 부여\n",
    "def label_create(candidate_add_features_df, label_df):\n",
    "    train_df = pd.merge(candidate_add_features_df, label_df, how='left', on=['profile_id','album_id'])\n",
    "    train_df['rating'] = train_df['rating'].fillna(0)\n",
    "    return train_df\n",
    "\n",
    "# 비복원 추출 defalut\n",
    "# train_df = train_df.sample(frac=1, random_state=42).reset_index(drop=True)\n",
    "\n",
    "# repurchase_train_df = label_create(repurchase_df, label_df)\n",
    "# non_repurchase_train_df = label_create(non_repurchase_df, label_df)\n",
    "train_df = label_create(candidate_add_features, label_df)"
   ]
  },
  {
   "cell_type": "code",
   "execution_count": null,
   "id": "ee838342",
   "metadata": {},
   "outputs": [],
   "source": [
    "train_df[\"rating\"].value_counts()"
   ]
  },
  {
   "cell_type": "code",
   "execution_count": null,
   "id": "86bae7d9",
   "metadata": {},
   "outputs": [],
   "source": [
    "repurchase_train_df[\"rating\"].value_counts()"
   ]
  },
  {
   "cell_type": "code",
   "execution_count": null,
   "id": "59c40026",
   "metadata": {},
   "outputs": [],
   "source": [
    "non_repurchase_train_df[\"rating\"].value_counts()"
   ]
  },
  {
   "cell_type": "markdown",
   "id": "a5a24f78",
   "metadata": {},
   "source": [
    "# model"
   ]
  },
  {
   "cell_type": "code",
   "execution_count": null,
   "id": "f6c28311",
   "metadata": {},
   "outputs": [],
   "source": [
    "# # # feature selection 컬럼만 학습\n",
    "# train_df = train_df[['profile_id','album_id','day', 'personal_counts', 'week', 'total_counts',\n",
    "#        'item_vector66', 'user_vector51', 'user_vector119', 'item_vector76',\n",
    "#        'user_vector59', 'item_vector97', 'user_vector164', 'user_vector196',\n",
    "#        'user_vector178', 'user_vector147', 'user_vector99', 'user_vector167',\n",
    "#        'item_vector165', 'user_vector75', 'user_vector50', 'user_vector136',\n",
    "#        'user_vector108', 'user_vector131', 'user_vector18', 'user_vector49',\n",
    "#        'user_vector62', 'user_vector152', 'user_vector177', 'item_vector119','rating']]"
   ]
  },
  {
   "cell_type": "code",
   "execution_count": null,
   "id": "cb3e2946",
   "metadata": {
    "scrolled": true
   },
   "outputs": [],
   "source": [
    "def lgbmrank_create(train_df):\n",
    "    lgbmrank = LGBMRank(train_df, mode='week', model_params={'n_estimators':45})\n",
    "    X_train, sample_submission = lgbmrank.valid_evaluation()\n",
    "    return X_train, sample_submission"
   ]
  },
  {
   "cell_type": "code",
   "execution_count": null,
   "id": "fb4decc5",
   "metadata": {
    "scrolled": true
   },
   "outputs": [],
   "source": [
    "X_train, sample_submission = lgbmrank_create(train_df)\n",
    "# X_train_1, sample_submission_1 = lgbmrank_create(repurchase_train_df)\n",
    "# X_train_2, sample_submission_2 = lgbmrank_create(non_repurchase_train_df)"
   ]
  },
  {
   "cell_type": "code",
   "execution_count": null,
   "id": "a2a47254",
   "metadata": {},
   "outputs": [],
   "source": [
    "X_train.pred.value_counts()"
   ]
  },
  {
   "cell_type": "code",
   "execution_count": null,
   "id": "aeba8444",
   "metadata": {},
   "outputs": [],
   "source": [
    "'''\n",
    "n_estimators: 5 -> 300\n",
    "n_estimators: 10 -> 900\n",
    "n_estimators: 15 -> 2500\n",
    "n_estimators: 20 -> 4118\n",
    "n_estimators: 25 -> 6532\n",
    "n_estimators: 30 -> 9267\n",
    "n_estimators: 35 -> 10601\n",
    "n_estimators: 40 -> 11415\n",
    "n_estimators: 45 -> 11415\n",
    "'''"
   ]
  },
  {
   "cell_type": "code",
   "execution_count": null,
   "id": "f9a0bc5f",
   "metadata": {},
   "outputs": [],
   "source": [
    "# repu\n",
    "X_train = X_train[[\"profile_id\",\"album_id\",\"pred\"]]\n",
    "repurchase_dict = df_train[[\"profile_id\",\"album_id\"]].groupby(\"profile_id\")[\"album_id\"].unique().to_dict()\n",
    "\n",
    "repurchase_df_list = []\n",
    "for user_id in tqdm(df_train.profile_id.unique()):\n",
    "    repurchase_df_list.append(X_train[(X_train[\"profile_id\"]==user_id)&(X_train[\"album_id\"].isin(repurchase_dict[user_id]))])\n",
    "repurchase_df = pd.concat(repurchase_df_list)"
   ]
  },
  {
   "cell_type": "code",
   "execution_count": null,
   "id": "cd4597f6",
   "metadata": {},
   "outputs": [],
   "source": [
    "repurchase_dict = df_train[[\"profile_id\",\"album_id\"]].groupby(\"profile_id\")[\"album_id\"].unique().to_dict()\n",
    "\n",
    "non_repurchase_df_list = []\n",
    "for user_id in tqdm(df_train.profile_id.unique()):\n",
    "    non_repurchase_df_list.append(X_train[(X_train[\"profile_id\"]==user_id)&~(X_train[\"album_id\"].isin(repurchase_dict[user_id]))])\n",
    "non_repurchase_df = pd.concat(non_repurchase_df_list)"
   ]
  },
  {
   "cell_type": "code",
   "execution_count": null,
   "id": "2f7b0b3c",
   "metadata": {},
   "outputs": [],
   "source": [
    "repurchase_df = repurchase_df.sort_values(by=[\"profile_id\",\"pred\"], ascending=False)\n",
    "non_repurchase_df = non_repurchase_df.sort_values(by=[\"profile_id\",\"pred\"], ascending=False)"
   ]
  },
  {
   "cell_type": "code",
   "execution_count": null,
   "id": "a981e3da",
   "metadata": {},
   "outputs": [],
   "source": [
    "repurchase_pred_df= repurchase_df.groupby(\"profile_id\")[\"album_id\"].unique().reset_index()\n",
    "repurchase_pred_df[\"album_id\"] = repurchase_pred_df[\"album_id\"].apply(lambda x: x[:25])"
   ]
  },
  {
   "cell_type": "code",
   "execution_count": null,
   "id": "a8ded60f",
   "metadata": {},
   "outputs": [],
   "source": [
    "non_repurchase_dict = non_repurchase_df.groupby(\"profile_id\")[\"album_id\"].unique().to_dict()"
   ]
  },
  {
   "cell_type": "code",
   "execution_count": null,
   "id": "c92e50bd",
   "metadata": {},
   "outputs": [],
   "source": [
    "pred_list = {}\n",
    "for idx, row in repurchase_pred_df.iterrows():\n",
    "    pred_list[row.profile_id] = row.album_id.tolist() + non_repurchase_dict.get(row.profile_id,[]).tolist()\n",
    "    \n",
    "repurchase_pred_df[\"album_id\"] = repurchase_pred_df[\"profile_id\"].apply(lambda x: pred_list.get(x,[]))"
   ]
  },
  {
   "cell_type": "code",
   "execution_count": null,
   "id": "8731c0c1",
   "metadata": {},
   "outputs": [],
   "source": [
    "lgbm_user_items_dict = repurchase_pred_df.set_index(\"profile_id\").to_dict()"
   ]
  },
  {
   "cell_type": "code",
   "execution_count": null,
   "id": "6e8edcc5",
   "metadata": {},
   "outputs": [],
   "source": [
    "sample_sumbission_week['album_id'] = sample_sumbission_week['profile_id'].apply(lambda x: (lgbm_user_items_dict[\"album_id\"].get(x, []))[:25])\n",
    "\n",
    "print('lgbm ndcg:', ndcg_calculator(sample_sumbission_week, test_answer_week, 25))"
   ]
  },
  {
   "cell_type": "code",
   "execution_count": null,
   "id": "cd46687b",
   "metadata": {},
   "outputs": [],
   "source": [
    "# non_repurchase_df.groupby(\"profile_id\")[\"album_id\"].unique().tail(60)"
   ]
  },
  {
   "cell_type": "code",
   "execution_count": null,
   "id": "d35874fa",
   "metadata": {},
   "outputs": [],
   "source": [
    "X_train.pred.value_counts()"
   ]
  },
  {
   "cell_type": "code",
   "execution_count": null,
   "id": "dc709caa",
   "metadata": {},
   "outputs": [],
   "source": [
    "X_train.pred.value_counts()"
   ]
  },
  {
   "cell_type": "code",
   "execution_count": null,
   "id": "3699142d",
   "metadata": {},
   "outputs": [],
   "source": [
    "X_train[[\"profile_id\",\"album_id\",\"pred\"]].groupby(\"profile_id\")"
   ]
  },
  {
   "cell_type": "code",
   "execution_count": null,
   "id": "b769853f",
   "metadata": {},
   "outputs": [],
   "source": [
    "X_train.groupby(\"profile_id\")"
   ]
  },
  {
   "cell_type": "code",
   "execution_count": null,
   "id": "6904fdb8",
   "metadata": {},
   "outputs": [],
   "source": [
    "cnt =0\n",
    "for i in sample_submission.album_id:\n",
    "    if len(i)<25:\n",
    "        cnt += 1\n",
    "print(cnt)"
   ]
  },
  {
   "cell_type": "code",
   "execution_count": null,
   "id": "9023bd8d",
   "metadata": {},
   "outputs": [],
   "source": [
    "label_users = label_df.profile_id.unique()\n",
    "label_train_df = train_df[train_df[\"profile_id\"].isin(label_users)]\n",
    "\n",
    "label_train_df[\"rating\"].value_counts()"
   ]
  },
  {
   "cell_type": "markdown",
   "id": "6e5b34eb",
   "metadata": {},
   "source": [
    "# 모델 label 유저만 학습"
   ]
  },
  {
   "cell_type": "code",
   "execution_count": null,
   "id": "f908a21f",
   "metadata": {
    "scrolled": true
   },
   "outputs": [],
   "source": [
    "lgbmrank = LGBMRank(label_train_df, mode='week', model_params={'n_estimators':5})\n",
    "model, feature_importances_df = lgbmrank.train()\n",
    "# X_train, sample_sumbission = lgbmrank.valid_evaluation()"
   ]
  },
  {
   "cell_type": "code",
   "execution_count": null,
   "id": "937b7acf",
   "metadata": {},
   "outputs": [],
   "source": [
    "# 모델 앙상블 모델 파일 만들기\n",
    "# import pickle\n",
    "\n",
    "# file = 'lgb_model_ncf_3.pkl'\n",
    "# pickle.dump(model, open(file, 'wb'))\n",
    "# print('Trained LGB model was saved!')\n",
    "\n",
    "# # load model\n",
    "# import joblib\n",
    "# lgb_model_1 = joblib.load('lgb_model_ncf_1.pkl')\n",
    "# lgb_model_2 = joblib.load('lgb_model_ncf_2.pkl')\n",
    "# lgb_model_3 = joblib.load('lgb_model_ncf_3.pkl')"
   ]
  },
  {
   "cell_type": "code",
   "execution_count": null,
   "id": "fe2557f4",
   "metadata": {},
   "outputs": [],
   "source": [
    "user_idx = train_df.profile_id\n",
    "item_idx = train_df.album_id\n",
    "\n",
    "del train_df[\"profile_id\"], train_df[\"album_id\"], train_df[\"rating\"]"
   ]
  },
  {
   "cell_type": "code",
   "execution_count": null,
   "id": "10b0ee41",
   "metadata": {},
   "outputs": [],
   "source": [
    "pred = model.predict(train_df)\n",
    "train_df[\"profile_id\"] = user_idx\n",
    "train_df[\"album_id\"] = item_idx\n",
    "train_df[\"pred\"] = pred\n",
    "\n",
    "lgbm_sub_df = train_df.sort_values(by='pred', ascending=False).groupby('profile_id').head(25)\n",
    "lgbm_user_items_dict = lgbm_sub_df.groupby('profile_id')['album_id'].unique().to_dict()\n",
    "sample_sumbission_week['album_id'] = sample_sumbission_week['profile_id'].apply(lambda x: lgbm_user_items_dict.get(x, []))\n",
    "\n",
    "print('lgbm ndcg:', ndcg_calculator(sample_sumbission_week, test_answer_week, 25))"
   ]
  },
  {
   "cell_type": "markdown",
   "id": "8aa56a1f",
   "metadata": {},
   "source": [
    "# 최종 제출"
   ]
  },
  {
   "cell_type": "code",
   "execution_count": null,
   "id": "c4d76344",
   "metadata": {},
   "outputs": [],
   "source": [
    "sample_submission_week = pd.read_csv(path + 'sample_submission.csv')"
   ]
  },
  {
   "cell_type": "code",
   "execution_count": null,
   "id": "aa6a10ad",
   "metadata": {},
   "outputs": [],
   "source": [
    "pred = model.predict(train_df)\n",
    "train_df[\"profile_id\"] = user_idx\n",
    "train_df[\"album_id\"] = item_idx\n",
    "train_df[\"pred\"] = pred\n",
    "\n",
    "lgbm_sub_df = train_df.sort_values(by='pred', ascending=False).groupby('profile_id').head(25)\n",
    "lgbm_user_items_dict = lgbm_sub_df.groupby('profile_id')['album_id'].unique().to_dict()\n",
    "sample_submission_week['predicted_list'] = sample_submission_week['profile_id'].apply(lambda x: list(lgbm_user_items_dict.get(x, [])))"
   ]
  },
  {
   "cell_type": "code",
   "execution_count": null,
   "id": "4b8d0af4",
   "metadata": {},
   "outputs": [],
   "source": [
    "sample_submission_week.to_csv(\"submission_1201_ver2.csv\",index=False)"
   ]
  },
  {
   "cell_type": "markdown",
   "id": "e0746f60",
   "metadata": {},
   "source": [
    "# 모델 CV 부분"
   ]
  },
  {
   "cell_type": "code",
   "execution_count": null,
   "id": "922fa75c",
   "metadata": {},
   "outputs": [],
   "source": [
    "# pred_1 = lgb_model_1.predict(train_df)\n",
    "# pred_2 = lgb_model_2.predict(train_df)\n",
    "# pred_3 = lgb_model_3.predict(train_df)\n",
    "\n",
    "# pred = np.mean([pred_1, pred_2, pred_3], axis=0)\n",
    "# train_df[\"profile_id\"] = user_idx\n",
    "# train_df[\"album_id\"] = item_idx\n",
    "# train_df[\"pred\"] = pred\n",
    "\n",
    "# lgbm_sub_df = train_df.sort_values(by='pred', ascending=False).groupby('profile_id').head(25)\n",
    "# lgbm_user_items_dict = lgbm_sub_df.groupby('profile_id')['album_id'].unique().to_dict()\n",
    "# sample_sumbission_week['album_id'] = sample_sumbission_week['profile_id'].apply(lambda x: lgbm_user_items_dict.get(x, []))\n",
    "\n",
    "# print('lgbm ndcg:', ndcg_calculator(sample_sumbission_week, test_answer_week, 25))"
   ]
  },
  {
   "cell_type": "code",
   "execution_count": null,
   "id": "27642d7e",
   "metadata": {},
   "outputs": [],
   "source": [
    "def evaluation(model, train_df, df_train, sample_sumbission_week,MP_cand, user_idx, item_idx):\n",
    "    pred = model.predict(train_df)\n",
    "    train_df[\"profile_id\"] = user_idx\n",
    "    train_df[\"album_id\"] = item_idx\n",
    "    train_df[\"pred\"] = pred\n",
    "\n",
    "    album_max_dict = df_train.groupby(\"profile_id\")[\"album_id\"].max().to_dict()\n",
    "\n",
    "    last_train_df_list = []\n",
    "    for user_id in train_df.profile_id.unique():\n",
    "        last_train_df_list.append(train_df[(train_df[\"profile_id\"]==user_id)&(train_df[\"album_id\"]<=album_max_dict[user_id])])\n",
    "    after_train_df = pd.concat(last_train_df_list)\n",
    "\n",
    "    lgbm_sub_df = after_train_df.sort_values(by='pred', ascending=False).groupby('profile_id').head(25)\n",
    "    lgbm_user_items_dict = lgbm_sub_df.groupby('profile_id')['album_id'].unique().to_dict()\n",
    "    sample_sumbission_week['predicted_list'] = sample_sumbission_week['profile_id'].apply(lambda x: lgbm_user_items_dict.get(x, []))\n",
    "    \n",
    "#     MP_list = MP_cand.album_id.unique()\n",
    "    \n",
    "#     # cold start user file MP_list top25\n",
    "#     sumbission_cold = sample_sumbission_week.copy()\n",
    "#     sumbission_cold['predicted_list'] = sumbission_cold['predicted_list']\\\n",
    "#                                             .apply(lambda x: list(dict.fromkeys(np.append(x, MP_list)))[:n])\n",
    "    \n",
    "#     print('lgbm ndcg:', ndcg_calculator(sample_sumbission_week, test_answer_week, 25))\n",
    "#     return sumbission_cold\n",
    "    return sample_sumbission_week, album_max_dict"
   ]
  },
  {
   "cell_type": "code",
   "execution_count": null,
   "id": "48fcc6bb",
   "metadata": {},
   "outputs": [],
   "source": [
    "submission = pd.read_csv(path + 'sample_submission.csv')"
   ]
  },
  {
   "cell_type": "code",
   "execution_count": null,
   "id": "7aa844c4",
   "metadata": {},
   "outputs": [],
   "source": [
    "sample_sumbission_week, album_max_dict = evaluation(model, train_df, df_train, submission, MP_cand, user_idx, item_idx)\n",
    "\n",
    "for i in sample_sumbission_week.predicted_list:\n",
    "    if len(i)<25:\n",
    "        print(len(i))"
   ]
  },
  {
   "cell_type": "code",
   "execution_count": null,
   "id": "ab79a2ee",
   "metadata": {},
   "outputs": [],
   "source": [
    "train_df.groupby(\"profile_id\").count()[\"album_id\"][train_df.groupby(\"profile_id\").count()[\"album_id\"]<25]"
   ]
  },
  {
   "cell_type": "code",
   "execution_count": null,
   "id": "bd397972",
   "metadata": {},
   "outputs": [],
   "source": [
    "sample_sumbission_week.to_csv(\"sumbission_ver12.csv\",index=False)"
   ]
  },
  {
   "cell_type": "code",
   "execution_count": null,
   "id": "ed98d122",
   "metadata": {},
   "outputs": [],
   "source": [
    "# meta_df = pd.read_csv(path+\"meta_data.csv\")\n",
    "meta_df = meta_df.drop(columns=[\"genre_large\",\"run_time\",\"onair_date\"])"
   ]
  },
  {
   "cell_type": "code",
   "execution_count": null,
   "id": "55febdfc",
   "metadata": {},
   "outputs": [],
   "source": [
    "columns = [\"title\",\"sub_title\",\"genre_mid\",\"genre_small\",\"country\",\"cast_1\",\"cast_2\",\"cast_3\",\"cast_4\",\"cast_5\",\"cast_6\",\"cast_7\"]\n",
    "meta_one_hot_df = pd.get_dummies(meta_df, columns = columns)"
   ]
  },
  {
   "cell_type": "code",
   "execution_count": null,
   "id": "06b4983b",
   "metadata": {},
   "outputs": [],
   "source": [
    "series_list = []\n",
    "for idx, row in tqdm(meta_df.iterrows()):\n",
    "    row_dict = {}\n",
    "    row_dict[\"album_id\"] = [row[\"album_id\"]]\n",
    "    for col in columns:\n",
    "        if type(row[col]) == str:\n",
    "            row_dict[row[col]] = [1]\n",
    "    series_list.append(row_dict)"
   ]
  },
  {
   "cell_type": "code",
   "execution_count": null,
   "id": "a34fb733",
   "metadata": {},
   "outputs": [],
   "source": [
    "plt.figure(figsize=(15,10))\n",
    "sns.scatterplot(x=\"profile_id\" , y=\"album_id\" , data=lgbm_sub_df)\n",
    "plt.show()"
   ]
  },
  {
   "cell_type": "code",
   "execution_count": null,
   "id": "341f4b90",
   "metadata": {},
   "outputs": [],
   "source": [
    "plt.figure(figsize=(15,10))\n",
    "sns.scatterplot(x=\"profile_id\" , y=\"album_id\" , data=df_train)\n",
    "plt.show()"
   ]
  },
  {
   "cell_type": "code",
   "execution_count": null,
   "id": "ab1f8969",
   "metadata": {},
   "outputs": [],
   "source": [
    "plt.figure(figsize=(15,10))\n",
    "sns.scatterplot(x=\"profile_id\" , y=\"album_id\" , data=label_df)\n",
    "plt.show()"
   ]
  },
  {
   "cell_type": "code",
   "execution_count": null,
   "id": "eb2c9f65",
   "metadata": {},
   "outputs": [],
   "source": [
    "real_target_list = []\n",
    "for idx, row in test_answer_week.iterrows():\n",
    "    df = pd.DataFrame()\n",
    "    df[\"album_id\"] = row[\"album_id\"]\n",
    "    df[\"profile_id\"] = row[\"profile_id\"]\n",
    "    real_target_list.append(df)\n",
    "real_target_df = pd.concat(real_target_list)\n",
    "pred_df = lgbm_sub_df[[\"profile_id\",\"album_id\",\"pred\"]]"
   ]
  },
  {
   "cell_type": "code",
   "execution_count": null,
   "id": "6a8c6f4b",
   "metadata": {
    "scrolled": false
   },
   "outputs": [],
   "source": [
    "plt.figure(figsize=(15,10))\n",
    "sns.scatterplot(x=\"profile_id\" , y=\"album_id\" , data=pred_df)\n",
    "plt.show()"
   ]
  },
  {
   "cell_type": "code",
   "execution_count": null,
   "id": "b0937dc4",
   "metadata": {},
   "outputs": [],
   "source": [
    "import matplotlib.pyplot as plt\n",
    "import seaborn as sns\n",
    "plt.figure(figsize=(15,10))\n",
    "sns.scatterplot(x=\"profile_id\" , y=\"album_id\" , data=real_target_df)\n",
    "plt.show()"
   ]
  },
  {
   "cell_type": "code",
   "execution_count": null,
   "id": "4751edef",
   "metadata": {},
   "outputs": [],
   "source": [
    "# cold user MP로 채우기 \n",
    "MP_list = MP_cand.album_id.unique()\n",
    "\n",
    "sample_sumbission_cold = sample_sumbission.copy()\n",
    "sample_sumbission_cold['album_id'] = sample_sumbission_cold['album_id']\\\n",
    "                                        .apply(lambda x: list(dict.fromkeys(np.append(x, MP_list)))[:n])"
   ]
  },
  {
   "cell_type": "code",
   "execution_count": null,
   "id": "ac1cbff9",
   "metadata": {
    "scrolled": true
   },
   "outputs": [],
   "source": [
    "ndcg_calculator(sample_sumbission_cold, test_answer_week, n)"
   ]
  },
  {
   "cell_type": "markdown",
   "id": "531d3cda",
   "metadata": {},
   "source": [
    "# Evaluation"
   ]
  },
  {
   "cell_type": "markdown",
   "id": "6c76681a",
   "metadata": {},
   "source": [
    "### experiment\n",
    "- num_leaves= 20, learning_rate=0.005, n_estimators:5\n",
    "- 어느 cand 중요한 지 판단\n",
    "- popular_articles_cand :(10,10) , personal_MP_candidate:(5), genre_candidate: max(10,10)\n",
    "\n",
    "### week\n",
    "- week ndcg score : 0.05611031122402796\n",
    "- popular_articles_cand week: ndcg 0.028022766659891125 (total unique item: 12)\n",
    "- personal_MP_candidate week: ndcg 0.02896244104871668  (total unique item: 4303)\n",
    "- genre_candidate week:       ndcg 0.01579135161487282  (total unique item: 157)\n",
    "- (popular_articles_cand, personal_MP_candidate) week: ndcg 0.05206722084683086  (total unique item: 4303)\n",
    "- (popular_articles_cand, genre_candidate) week: 0.03809584406788012 (total unique item: 161)\n",
    "- (personal_MP_candidate, genre_candidate) week: 0.041085241338965385 (total unique item: 4338)\n",
    "\n",
    "### month\n",
    "- month ndcg score : 0.08036130090004782\n",
    "- popular_articles_cand month: ndcg 0.05945057771810242 (total unique item: 15)\n",
    "- personal_MP_candidate month: ndcg 0.028477345633295483  (total unique item: 2826)\n",
    "- genre_candidate       month: ndcg 0.017431233023063257  (total unique item: 150)\n",
    "- (popular_articles_cand, personal_MP_candidate) month: ndcg 0.05206722084683086  (total unique item: 2826)\n",
    "- (popular_articles_cand, genre_candidate) month: 0.0680887232688415 (total unique item: 155)\n",
    "- (personal_MP_candidate, genre_candidate) month: 0.041085241338965385 (total unique item: 2872)"
   ]
  },
  {
   "cell_type": "code",
   "execution_count": null,
   "id": "bf4a18d9",
   "metadata": {},
   "outputs": [],
   "source": [
    "def evaluation(\n",
    "            X_train:pd.DataFrame(), \n",
    "            sumbission:pd.DataFrame(), \n",
    "            n:int, \n",
    "            MP_cand:pd.DataFrame()\n",
    "            )->pd.DataFrame():\n",
    "    \n",
    "    MP_list = MP_cand.album_id.unique()\n",
    "    \n",
    "    # each user pred 25 items\n",
    "    lgbm_sub_df = X_train.sort_values(by='pred', ascending=False).groupby('profile_id').head(n)\n",
    "    lgbm_user_items_dict = lgbm_sub_df.groupby('profile_id')['album_id'].unique().to_dict()\n",
    "    sumbission['predicted_list'] = sumbission['profile_id']\\\n",
    "                                            .apply(lambda x: lgbm_user_items_dict.get(x, []))\n",
    "    \n",
    "    # cold start user file MP_list top25\n",
    "    sumbission_cold = sumbission.copy()\n",
    "    sumbission_cold['predicted_list'] = sumbission_cold['predicted_list']\\\n",
    "                                            .apply(lambda x: list(dict.fromkeys(np.append(x, MP_list)))[:n])\n",
    "    \n",
    "    return sumbission, sumbission_cold"
   ]
  },
  {
   "cell_type": "code",
   "execution_count": null,
   "id": "12418cc8",
   "metadata": {},
   "outputs": [],
   "source": [
    "submission = pd.read_csv(path + 'sample_submission.csv')\n",
    "sumbission_pred, sumbission_cold = evaluation(X_train, submission, n, MP_cand)"
   ]
  },
  {
   "cell_type": "code",
   "execution_count": null,
   "id": "80977c2e",
   "metadata": {},
   "outputs": [],
   "source": [
    "set_list = {}\n",
    "for list_i in sumbission_cold.predicted_list:\n",
    "    set_list[str(list_i)] = 0"
   ]
  },
  {
   "cell_type": "code",
   "execution_count": null,
   "id": "0d3e4e6a",
   "metadata": {},
   "outputs": [],
   "source": [
    "print('같은 추천을 받은 유저 수:', 8311 - len(set_list))"
   ]
  },
  {
   "cell_type": "code",
   "execution_count": null,
   "id": "74fb0c13",
   "metadata": {},
   "outputs": [],
   "source": [
    "sumbission_cold"
   ]
  },
  {
   "cell_type": "code",
   "execution_count": null,
   "id": "9dfc7d46",
   "metadata": {},
   "outputs": [],
   "source": [
    "# 제출 조건 충족 확인\n",
    "assert submission.profile_id.nunique() == sumbission_cold.profile_id.nunique()\n",
    "for pred_list in sumbission_cold.predicted_list:\n",
    "    assert len(pred_list) == 25"
   ]
  },
  {
   "cell_type": "code",
   "execution_count": null,
   "id": "cf6ad29f",
   "metadata": {},
   "outputs": [],
   "source": [
    "sumbission_cold.to_csv('lgbm_candidate_submission_NCF_candidate_ver10.csv', index=False)"
   ]
  },
  {
   "cell_type": "code",
   "execution_count": null,
   "id": "440b0e9c",
   "metadata": {},
   "outputs": [],
   "source": []
  }
 ],
 "metadata": {
  "kernelspec": {
   "display_name": "Python 3 (ipykernel)",
   "language": "python",
   "name": "python3"
  },
  "language_info": {
   "codemirror_mode": {
    "name": "ipython",
    "version": 3
   },
   "file_extension": ".py",
   "mimetype": "text/x-python",
   "name": "python",
   "nbconvert_exporter": "python",
   "pygments_lexer": "ipython3",
   "version": "3.9.0"
  },
  "vscode": {
   "interpreter": {
    "hash": "26e9295aa3edd5d89dea439b5443781bb65434b4bf0c4b562c7bcca31764744c"
   }
  }
 },
 "nbformat": 4,
 "nbformat_minor": 5
}
